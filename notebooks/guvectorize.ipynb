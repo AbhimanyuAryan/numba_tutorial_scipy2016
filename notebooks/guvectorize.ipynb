{
 "cells": [
  {
   "cell_type": "code",
   "execution_count": null,
   "metadata": {
    "collapsed": true
   },
   "outputs": [],
   "source": [
    "from numba import guvectorize, float64, int16\n",
    "import numpy"
   ]
  },
  {
   "cell_type": "code",
   "execution_count": null,
   "metadata": {
    "collapsed": true
   },
   "outputs": [],
   "source": [
    "def restrict_2d(fine, coarse):\n",
    "    \n",
    "    J, I = fine.shape\n",
    "    for j in range(2, J - 2 , 2):\n",
    "        for i in range(2, I - 2, 2):\n",
    "            coarse[j//2, i//2] = (1/16 * (\n",
    "                        fine[j + 1, i + 1] + \n",
    "                        fine[j + 1, i - 1] +\n",
    "                        fine[j - 1, i + 1] +\n",
    "                        fine[j - 1, i - 1]) + \n",
    "                    1/8 * (\n",
    "                    fine[j, i + 1] +\n",
    "                    fine[j, i - 1] + \n",
    "                    fine[j - 1, i] + \n",
    "                    fine[j + 1, i]) +\n",
    "                    1/4 * fine[j, i])"
   ]
  },
  {
   "cell_type": "code",
   "execution_count": null,
   "metadata": {
    "collapsed": false
   },
   "outputs": [],
   "source": [
    "@guvectorize([(int16[:,:], int16[:], int16[:,:])], '(n,n),(m)->(m,m)')\n",
    "def restrict_2d_gvec(fine, size, coarse):\n",
    "    \n",
    "    J, I = fine.shape\n",
    "    for j in range(2, J - 2 , 2):\n",
    "        for i in range(2, I - 2, 2):\n",
    "            coarse[j//2, i//2] = (1/16 * (\n",
    "                        fine[j + 1, i + 1] + \n",
    "                        fine[j + 1, i - 1] +\n",
    "                        fine[j - 1, i + 1] +\n",
    "                        fine[j - 1, i - 1]) + \n",
    "                    1/8 * (\n",
    "                    fine[j, i + 1] +\n",
    "                    fine[j, i - 1] + \n",
    "                    fine[j - 1, i] + \n",
    "                    fine[j + 1, i]) +\n",
    "                    1/4 * fine[j, i])\n",
    "                    \n",
    "    #return coarse\n",
    "    "
   ]
  },
  {
   "cell_type": "code",
   "execution_count": null,
   "metadata": {
    "collapsed": true
   },
   "outputs": [],
   "source": [
    "from matplotlib import pyplot, cm\n",
    "%matplotlib inline"
   ]
  },
  {
   "cell_type": "code",
   "execution_count": null,
   "metadata": {
    "collapsed": false
   },
   "outputs": [],
   "source": [
    "a = numpy.zeros((50, 50))\n",
    "a[::2, ::2] = 1"
   ]
  },
  {
   "cell_type": "code",
   "execution_count": null,
   "metadata": {
    "collapsed": true
   },
   "outputs": [],
   "source": [
    "b = numpy.zeros_like(a[::2, ::2])"
   ]
  },
  {
   "cell_type": "code",
   "execution_count": null,
   "metadata": {
    "collapsed": true
   },
   "outputs": [],
   "source": [
    "from matplotlib import cbook"
   ]
  },
  {
   "cell_type": "code",
   "execution_count": null,
   "metadata": {
    "collapsed": false
   },
   "outputs": [],
   "source": [
    "filename = cbook.get_sample_data('jacksboro_fault_dem.npz', asfileobj=False)\n",
    "with numpy.load(filename) as dem:\n",
    "    z = dem['elevation']"
   ]
  },
  {
   "cell_type": "code",
   "execution_count": null,
   "metadata": {
    "collapsed": false
   },
   "outputs": [],
   "source": [
    "z = z[:,:344]"
   ]
  },
  {
   "cell_type": "code",
   "execution_count": null,
   "metadata": {
    "collapsed": false
   },
   "outputs": [],
   "source": [
    "z.dtype"
   ]
  },
  {
   "cell_type": "code",
   "execution_count": null,
   "metadata": {
    "collapsed": false
   },
   "outputs": [],
   "source": [
    "pyplot.figure(figsize=(10,10))\n",
    "pyplot.imshow(z, interpolation='none', cmap=cm.viridis)"
   ]
  },
  {
   "cell_type": "code",
   "execution_count": null,
   "metadata": {
    "collapsed": false
   },
   "outputs": [],
   "source": [
    "%%timeit \n",
    "y = numpy.zeros_like(z[::2,::2])\n",
    "restrict_2d(z, y)"
   ]
  },
  {
   "cell_type": "code",
   "execution_count": null,
   "metadata": {
    "collapsed": false
   },
   "outputs": [],
   "source": [
    "%%timeit\n",
    "y = numpy.zeros_like(z[::2,::2])\n",
    "restrict_2d_gvec(z, numpy.empty(y.shape[0], dtype=numpy.int16), y)"
   ]
  },
  {
   "cell_type": "code",
   "execution_count": null,
   "metadata": {
    "collapsed": false
   },
   "outputs": [],
   "source": [
    "pyplot.figure(figsize=(10,10))\n",
    "y = numpy.zeros_like(z[::2,::2])\n",
    "restrict_2d_gvec(z, numpy.empty(y.shape[0], dtype=numpy.int16), y)\n",
    "pyplot.imshow(y, interpolation='none', cmap=cm.viridis)\n",
    "z = y.copy()"
   ]
  },
  {
   "cell_type": "code",
   "execution_count": null,
   "metadata": {
    "collapsed": true
   },
   "outputs": [],
   "source": []
  }
 ],
 "metadata": {
  "kernelspec": {
   "display_name": "Python 3",
   "language": "python",
   "name": "python3"
  },
  "language_info": {
   "codemirror_mode": {
    "name": "ipython",
    "version": 3
   },
   "file_extension": ".py",
   "mimetype": "text/x-python",
   "name": "python",
   "nbconvert_exporter": "python",
   "pygments_lexer": "ipython3",
   "version": "3.5.1"
  }
 },
 "nbformat": 4,
 "nbformat_minor": 0
}
