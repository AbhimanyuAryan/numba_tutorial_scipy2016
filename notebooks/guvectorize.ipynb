{
 "cells": [
  {
   "cell_type": "code",
   "execution_count": null,
   "metadata": {
    "collapsed": true
   },
   "outputs": [],
   "source": [
    "from numba import guvectorize, float64, float32, int16, int32\n",
    "import numpy"
   ]
  },
  {
   "cell_type": "code",
   "execution_count": null,
   "metadata": {
    "collapsed": true
   },
   "outputs": [],
   "source": [
    "def restrict_2d(vF, vC):\n",
    "    '''\n",
    "    2D full weighting restriction. Only applicable when nx=ny and dx=dy.\n",
    "    \n",
    "    Parameters\n",
    "    ----------\n",
    "    vF: nF x nF array, the array on the fine grid\n",
    "    vC: nC x nC array, the array on the coarse grid\n",
    "    \n",
    "    Return\n",
    "    ----------\n",
    "    vC: nC x nC array, the array on the coarse grid\n",
    "    '''\n",
    "\n",
    "    vC[1:-1, 1:-1] = (vF[1:-3:2, 1:-3:2] + vF[1:-3:2, 3:-1:2] +\\\n",
    "                        vF[3:-1:2, 1:-3:2] + vF[3:-1:2, 3:-1:2] +\\\n",
    "                        2. * (vF[2:-2:2, 1:-3:2] + vF[2:-2:2, 3:-1:2] +\\\n",
    "                        vF[1:-3:2, 2:-2:2] + vF[3:-1:2, 2:-2:2]) +\\\n",
    "                        4. * vF[2:-2:2, 2:-2:2]) / 16.0\n",
    "    \n",
    "    return vC"
   ]
  },
  {
   "cell_type": "code",
   "execution_count": null,
   "metadata": {
    "collapsed": false
   },
   "outputs": [],
   "source": [
    "@guvectorize([(int16[:,:], int16[:], int16[:,:]),\n",
    "              (int32[:,:], int32[:], int32[:,:]),\n",
    "              (float32[:,:], float32[:], float32[:,:]), \n",
    "              (float64[:,:], float64[:], float64[:,:])], '(n,n),(m)->(m,m)')\n",
    "def restrict_2d_gvec(fine, size, coarse):\n",
    "    \n",
    "    J, I = fine.shape\n",
    "    for j in range(2, J - 2 , 2):\n",
    "        for i in range(2, I - 2, 2):\n",
    "            coarse[j//2, i//2] = (1/16 * (\n",
    "                        fine[j + 1, i + 1] + \n",
    "                        fine[j + 1, i - 1] +\n",
    "                        fine[j - 1, i + 1] +\n",
    "                        fine[j - 1, i - 1]) + \n",
    "                    1/8 * (\n",
    "                    fine[j, i + 1] +\n",
    "                    fine[j, i - 1] + \n",
    "                    fine[j - 1, i] + \n",
    "                    fine[j + 1, i]) +\n",
    "                    1/4 * fine[j, i])\n",
    "                    \n",
    "    #return coarse\n",
    "    "
   ]
  },
  {
   "cell_type": "code",
   "execution_count": null,
   "metadata": {
    "collapsed": true
   },
   "outputs": [],
   "source": [
    "from matplotlib import pyplot, cm\n",
    "%matplotlib inline"
   ]
  },
  {
   "cell_type": "code",
   "execution_count": null,
   "metadata": {
    "collapsed": true
   },
   "outputs": [],
   "source": [
    "from matplotlib import cbook"
   ]
  },
  {
   "cell_type": "code",
   "execution_count": null,
   "metadata": {
    "collapsed": false
   },
   "outputs": [],
   "source": [
    "filename = cbook.get_sample_data('jacksboro_fault_dem.npz', asfileobj=False)\n",
    "with numpy.load(filename) as dem:\n",
    "    z = dem['elevation']"
   ]
  },
  {
   "cell_type": "code",
   "execution_count": null,
   "metadata": {
    "collapsed": false
   },
   "outputs": [],
   "source": [
    "z = z[:,:344]"
   ]
  },
  {
   "cell_type": "code",
   "execution_count": null,
   "metadata": {
    "collapsed": false
   },
   "outputs": [],
   "source": [
    "z.dtype"
   ]
  },
  {
   "cell_type": "code",
   "execution_count": null,
   "metadata": {
    "collapsed": false
   },
   "outputs": [],
   "source": [
    "z = numpy.float32(z)\n",
    "z.dtype"
   ]
  },
  {
   "cell_type": "code",
   "execution_count": null,
   "metadata": {
    "collapsed": true
   },
   "outputs": [],
   "source": []
  },
  {
   "cell_type": "code",
   "execution_count": null,
   "metadata": {
    "collapsed": false
   },
   "outputs": [],
   "source": [
    "%%timeit \n",
    "assert z.shape[0] == 344\n",
    "y = numpy.zeros_like(z[::2,::2])\n",
    "restrict_2d(z, y)"
   ]
  },
  {
   "cell_type": "code",
   "execution_count": null,
   "metadata": {
    "collapsed": false
   },
   "outputs": [],
   "source": [
    "%%timeit\n",
    "assert z.shape[0] == 344\n",
    "y = numpy.zeros_like(z[::2,::2])\n",
    "restrict_2d_gvec(z, numpy.empty(y.shape[0]), y)"
   ]
  },
  {
   "cell_type": "code",
   "execution_count": null,
   "metadata": {
    "collapsed": false
   },
   "outputs": [],
   "source": [
    "pyplot.figure(figsize=(10,10))\n",
    "pyplot.imshow(z, interpolation='none', cmap=cm.viridis)"
   ]
  },
  {
   "cell_type": "code",
   "execution_count": null,
   "metadata": {
    "collapsed": false
   },
   "outputs": [],
   "source": [
    "%%timeit\n",
    "y = numpy.zeros_like(z[::2,::2])\n",
    "restrict_2d_gvec(z, numpy.empty(y.shape[0], dtype=numpy.int16), y)"
   ]
  },
  {
   "cell_type": "code",
   "execution_count": null,
   "metadata": {
    "collapsed": false
   },
   "outputs": [],
   "source": [
    "pyplot.figure(figsize=(10,10))\n",
    "y = numpy.zeros_like(z[::2,::2])\n",
    "restrict_2d_gvec(z, numpy.empty(y.shape[0], dtype=numpy.int16), y)\n",
    "pyplot.imshow(y, interpolation='none', cmap=cm.viridis)\n",
    "z = y.copy()"
   ]
  },
  {
   "cell_type": "code",
   "execution_count": null,
   "metadata": {
    "collapsed": true
   },
   "outputs": [],
   "source": [
    "def interpolation_2d(vC, vF):\n",
    "    '''\n",
    "    2D interpolation. Only applicable when nx=ny and dx=dy.\n",
    "    \n",
    "    Parameters\n",
    "    ----------\n",
    "    vC: 2D array, the array on the coarse grid\n",
    "    vF: 2D array, the array on the fine grid\n",
    "    \n",
    "    Return\n",
    "    ----------\n",
    "    vF: 2D array, the array on the fine grid\n",
    "    '''\n",
    "    vF[::2, ::2] = vC[:, :]\n",
    "    vF[1:-1:2, ::2] = 0.5 * (vC[:-1, :] + vC[1:, :])\n",
    "    vF[::2, 1:-1:2] = 0.5 * (vC[:, :-1] + vC[:, 1:])\n",
    "    vF[1:-1:2, 1:-1:2] = 0.25 * (vC[:-1, :-1] +\n",
    "                                 vC[1:, :-1] + \n",
    "                                 vC[:-1, 1:] + \n",
    "                                 vC[1:, 1:])\n",
    "    \n",
    "    return vF"
   ]
  },
  {
   "cell_type": "code",
   "execution_count": null,
   "metadata": {
    "collapsed": false
   },
   "outputs": [],
   "source": [
    "@guvectorize([(int16[:,:], int16[:], int16[:,:]), \n",
    "              (float32[:,:], float32[:], float32[:,:]), \n",
    "              (float64[:,:], float64[:], float64[:,:])], '(n,n),(m)->(m,m)')\n",
    "def interpolate_2d_gvec(coarse, size, fine):\n",
    "    J, I = coarse.shape\n",
    "    for j in range(1, J - 1):\n",
    "        for i in range(1, I - 1):\n",
    "            fine[2 * j, 2 * i] = coarse[j, i]\n",
    "            fine[2 * j + 1, 2 * i] = .5 * (coarse[j, i] + \n",
    "                                            coarse[j + 1, i])\n",
    "            fine[2 * j, 2 * i + 1] = .5 * (coarse[j, i] +\n",
    "                                            coarse[j, i + 1])\n",
    "            fine[2 * j + 1, 2 * i + 1] = .25 * (coarse[j, i] + \n",
    "                                                coarse[j, i + 1] + \n",
    "                                                coarse[j + 1, i] + \n",
    "                                                coarse[j + 1, i + 1])"
   ]
  },
  {
   "cell_type": "code",
   "execution_count": null,
   "metadata": {
    "collapsed": true
   },
   "outputs": [],
   "source": [
    "x = numpy.zeros((y.shape[0]*2, y.shape[1]*2))\n",
    "interpolate_2d_gvec(y, numpy.empty(x.shape[0]), x)\n",
    "y = x.copy()"
   ]
  },
  {
   "cell_type": "code",
   "execution_count": null,
   "metadata": {
    "collapsed": false
   },
   "outputs": [],
   "source": [
    "pyplot.figure(figsize=(8,8))\n",
    "pyplot.imshow(x, interpolation='none', cmap=cm.viridis)"
   ]
  },
  {
   "cell_type": "code",
   "execution_count": null,
   "metadata": {
    "collapsed": false
   },
   "outputs": [],
   "source": [
    "%%timeit\n",
    "x = numpy.zeros((y.shape[0]*2, y.shape[1]*2))\n",
    "interpolate_2d_gvec(y, numpy.empty(x.shape[0]), x)"
   ]
  },
  {
   "cell_type": "code",
   "execution_count": null,
   "metadata": {
    "collapsed": false
   },
   "outputs": [],
   "source": [
    "%%timeit\n",
    "x = numpy.zeros((y.shape[0]*2, y.shape[1]*2))\n",
    "interpolate_2d(y, x)"
   ]
  },
  {
   "cell_type": "markdown",
   "metadata": {},
   "source": [
    "## Larger arrays"
   ]
  },
  {
   "cell_type": "code",
   "execution_count": null,
   "metadata": {
    "collapsed": true
   },
   "outputs": [],
   "source": [
    "z = numpy.random.random((10000, 10000))"
   ]
  },
  {
   "cell_type": "code",
   "execution_count": null,
   "metadata": {
    "collapsed": false
   },
   "outputs": [],
   "source": [
    "%%timeit \n",
    "y = numpy.zeros_like(z[::2,::2])\n",
    "restrict_2d(z, y)"
   ]
  },
  {
   "cell_type": "code",
   "execution_count": null,
   "metadata": {
    "collapsed": false
   },
   "outputs": [],
   "source": [
    "%%timeit\n",
    "y = numpy.zeros_like(z[::2,::2])\n",
    "restrict_2d_gvec(z, numpy.empty(y.shape[0]), y)"
   ]
  },
  {
   "cell_type": "markdown",
   "metadata": {},
   "source": [
    "## Dask"
   ]
  },
  {
   "cell_type": "code",
   "execution_count": null,
   "metadata": {
    "collapsed": false
   },
   "outputs": [],
   "source": [
    "filename = cbook.get_sample_data('jacksboro_fault_dem.npz', asfileobj=False)\n",
    "with numpy.load(filename) as dem:\n",
    "    z = dem['elevation']"
   ]
  },
  {
   "cell_type": "code",
   "execution_count": null,
   "metadata": {
    "collapsed": false
   },
   "outputs": [],
   "source": [
    "z = numpy.float64(z)"
   ]
  },
  {
   "cell_type": "code",
   "execution_count": null,
   "metadata": {
    "collapsed": false
   },
   "outputs": [],
   "source": [
    "z = z[:300,:300]"
   ]
  },
  {
   "cell_type": "code",
   "execution_count": null,
   "metadata": {
    "collapsed": false
   },
   "outputs": [],
   "source": [
    "import dask.array as da"
   ]
  },
  {
   "cell_type": "code",
   "execution_count": null,
   "metadata": {
    "collapsed": true
   },
   "outputs": [],
   "source": [
    "#create dask array from z\n",
    "d = da.from_array(z, chunks=(z.shape[0]/3, z.shape[0]/3))"
   ]
  },
  {
   "cell_type": "code",
   "execution_count": null,
   "metadata": {
    "collapsed": false
   },
   "outputs": [],
   "source": [
    "#ghost all chunk boundaries by 2 \n",
    "#because you have to halve them later\n",
    "g = da.ghost.ghost(d, depth={0: 2, 1: 2}, \n",
    "                  boundary={0: 'reflect', 1: 'reflect'})\n",
    "\n",
    "#function to map onto blocks\n",
    "def restrict_func(block):\n",
    "    y = numpy.zeros_like(block[::2,::2])\n",
    "    return restrict_2d_gvec(block, numpy.empty(y.shape[0]), y)\n",
    "\n",
    "#map blocks, specify new chunksize = old chunksize / 2\n",
    "g2 = g.map_blocks(restrict_func, chunks=g.chunks[0][:2])\n",
    "\n",
    "#trim off remaining ghosting\n",
    "res = da.ghost.trim_internal(g2, {0: 1, 1: 1})\n",
    "\n",
    "a = res.compute()"
   ]
  },
  {
   "cell_type": "code",
   "execution_count": null,
   "metadata": {
    "collapsed": false
   },
   "outputs": [],
   "source": [
    "a.shape"
   ]
  },
  {
   "cell_type": "code",
   "execution_count": null,
   "metadata": {
    "collapsed": false
   },
   "outputs": [],
   "source": [
    "pyplot.figure(figsize=(12,12))\n",
    "pyplot.subplot(1,2,1)\n",
    "pyplot.imshow(a, interpolation='none', cmap=cm.viridis)\n",
    "pyplot.subplot(1,2,2)\n",
    "pyplot.imshow(z, interpolation='none', cmap=cm.viridis)"
   ]
  },
  {
   "cell_type": "raw",
   "metadata": {},
   "source": [
    "%%timeit \n",
    "a = res.compute()"
   ]
  },
  {
   "cell_type": "code",
   "execution_count": null,
   "metadata": {
    "collapsed": true
   },
   "outputs": [],
   "source": [
    "x = da.random.random?"
   ]
  },
  {
   "cell_type": "code",
   "execution_count": null,
   "metadata": {
    "collapsed": true
   },
   "outputs": [],
   "source": [
    "x = da.random.random"
   ]
  },
  {
   "cell_type": "code",
   "execution_count": null,
   "metadata": {
    "collapsed": true
   },
   "outputs": [],
   "source": [
    "x = da.random.random(size=(50000, 50000), chunks=(5000, 5000))*100"
   ]
  },
  {
   "cell_type": "code",
   "execution_count": null,
   "metadata": {
    "collapsed": true
   },
   "outputs": [],
   "source": [
    "#ghost all chunk boundaries by 2 \n",
    "#because you have to halve them later\n",
    "g = da.ghost.ghost(x, depth={0: 2, 1: 2}, \n",
    "                  boundary={0: 'reflect', 1: 'reflect'})\n",
    "\n",
    "#function to map onto blocks\n",
    "def restrict_func(block):\n",
    "    y = numpy.zeros_like(block[::2,::2])\n",
    "    return restrict_2d_gvec(block, numpy.empty(y.shape[0]), y)\n",
    "\n",
    "#map blocks, specify new chunksize = old chunksize / 2\n",
    "g2 = g.map_blocks(restrict_func, chunks=g.chunks[0][:2])\n",
    "\n",
    "#trim off remaining ghosting\n",
    "res = da.ghost.trim_internal(g2, {0: 1, 1: 1})"
   ]
  },
  {
   "cell_type": "code",
   "execution_count": null,
   "metadata": {
    "collapsed": false
   },
   "outputs": [],
   "source": [
    "a = res.compute()"
   ]
  },
  {
   "cell_type": "code",
   "execution_count": null,
   "metadata": {
    "collapsed": false
   },
   "outputs": [],
   "source": [
    "a.mean()"
   ]
  },
  {
   "cell_type": "code",
   "execution_count": null,
   "metadata": {
    "collapsed": false
   },
   "outputs": [],
   "source": [
    "x.mean().compute()"
   ]
  },
  {
   "cell_type": "code",
   "execution_count": null,
   "metadata": {
    "collapsed": false
   },
   "outputs": [],
   "source": [
    "pyplot.imshow(a, cmap=cm.viridis)"
   ]
  },
  {
   "cell_type": "code",
   "execution_count": null,
   "metadata": {
    "collapsed": false
   },
   "outputs": [],
   "source": [
    "pyplot.imshow(numpy.array(x), cmap=cm.viridis)"
   ]
  },
  {
   "cell_type": "code",
   "execution_count": null,
   "metadata": {
    "collapsed": true
   },
   "outputs": [],
   "source": []
  }
 ],
 "metadata": {
  "kernelspec": {
   "display_name": "Python 3",
   "language": "python",
   "name": "python3"
  },
  "language_info": {
   "codemirror_mode": {
    "name": "ipython",
    "version": 3
   },
   "file_extension": ".py",
   "mimetype": "text/x-python",
   "name": "python",
   "nbconvert_exporter": "python",
   "pygments_lexer": "ipython3",
   "version": "3.5.1"
  }
 },
 "nbformat": 4,
 "nbformat_minor": 0
}
