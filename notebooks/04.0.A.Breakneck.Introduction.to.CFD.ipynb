{
 "cells": [
  {
   "cell_type": "markdown",
   "metadata": {},
   "source": [
    "## Application - Pressure Poisson Equation"
   ]
  },
  {
   "cell_type": "markdown",
   "metadata": {},
   "source": [
    "Momentum equation for a velocity field $\\vec{v}$\n",
    "\n",
    "$$\\frac{\\partial \\vec{v}}{\\partial t}+(\\vec{v}\\cdot\\nabla)\\vec{v}=-\\frac{1}{\\rho}\\nabla p + \\nu \\nabla^2\\vec{v}$$"
   ]
  },
  {
   "cell_type": "markdown",
   "metadata": {},
   "source": [
    "Incompressibility constraint:\n",
    "\n",
    "$$\\nabla \\cdot u = 0$$"
   ]
  },
  {
   "cell_type": "markdown",
   "metadata": {},
   "source": [
    "Momentum equation in $x$ and $y$ "
   ]
  },
  {
   "cell_type": "markdown",
   "metadata": {},
   "source": [
    "$$\\frac{\\partial u}{\\partial t}+u\\frac{\\partial u}{\\partial x}+v\\frac{\\partial u}{\\partial y} = -\\frac{1}{\\rho}\\frac{\\partial p}{\\partial x}+\\nu \\left(\\frac{\\partial^2 u}{\\partial x^2}+\\frac{\\partial^2 u}{\\partial y^2} \\right) $$\n",
    "\n",
    "\n",
    "$$\\frac{\\partial v}{\\partial t}+u\\frac{\\partial v}{\\partial x}+v\\frac{\\partial v}{\\partial y} = -\\frac{1}{\\rho}\\frac{\\partial p}{\\partial y}+\\nu\\left(\\frac{\\partial^2 v}{\\partial x^2}+\\frac{\\partial^2 v}{\\partial y^2}\\right) $$"
   ]
  },
  {
   "cell_type": "markdown",
   "metadata": {},
   "source": [
    "The derived Pressure Poisson Equation\n",
    "\n",
    "$$\\frac{\\partial^2 p}{\\partial x^2}+\\frac{\\partial^2 p}{\\partial y^2} = -\\rho\\left(\\frac{\\partial u}{\\partial x}\\frac{\\partial u}{\\partial x}+2\\frac{\\partial u}{\\partial y}\\frac{\\partial v}{\\partial x}+\\frac{\\partial v}{\\partial y}\\frac{\\partial v}{\\partial y} \\right)$$"
   ]
  },
  {
   "cell_type": "markdown",
   "metadata": {},
   "source": [
    "Which is of the form"
   ]
  },
  {
   "cell_type": "markdown",
   "metadata": {},
   "source": [
    "$$\\frac{\\partial ^2 p}{\\partial x^2} + \\frac{\\partial ^2 p}{\\partial y^2} = b$$"
   ]
  },
  {
   "cell_type": "markdown",
   "metadata": {},
   "source": [
    "We discretize these equations using finite differences on a uniform cartesian mesh"
   ]
  },
  {
   "cell_type": "markdown",
   "metadata": {},
   "source": [
    "<img src='./figures/2dgrid.svg'>"
   ]
  },
  {
   "cell_type": "markdown",
   "metadata": {},
   "source": [
    "The Poisson equation for pressure:\n",
    "\\begin{align}\n",
    "p_{i,j}^{n} &= \\frac{1}{4}\\left(p_{i+1,j}^{n}+p_{i-1,j}^{n}+p_{i,j+1}^{n}+p_{i,j-1}^{n}\\right) \\\\\n",
    "&-\\frac{\\rho \\Delta x}{16} \\left( \\frac{2}{\\Delta t} \\left(u_{i+1,j} - u_{i-1,j} + v_{i,j+1} - v_{i,j-1}\\right) \\right . \\\\\n",
    "&-\\frac{2}{\\Delta x}\\left(u_{i,j+1} - u_{i,j-1} \\right) \\left(v_{i+1,j} - v_{i-1,j} \\right) \\\\\n",
    "&- \\left . \\frac{\\left(u_{i+1,j} - u_{i-1,j} \\right)^2}{\\Delta x} \n",
    "- \\frac{ \\left(v_{i,j+1} - v_{i,j-1} \\right)^2 }{\\Delta x} \\right) \\\\\n",
    "\\end{align}"
   ]
  },
  {
   "cell_type": "markdown",
   "metadata": {},
   "source": [
    "<img src='./figures/ppe.highlight.svg'>"
   ]
  },
  {
   "cell_type": "code",
   "execution_count": null,
   "metadata": {
    "collapsed": true
   },
   "outputs": [],
   "source": [
    "import numpy"
   ]
  },
  {
   "cell_type": "code",
   "execution_count": null,
   "metadata": {
    "collapsed": true
   },
   "outputs": [],
   "source": [
    "def velocity_term(b, rho, dt, u, v, dx):\n",
    "    b[1:-1, 1:-1] = (\n",
    "        rho * dx / 16 * \n",
    "        (2 / dt * (u[1:-1, 2:] - \n",
    "                   u[1:-1, :-2] + \n",
    "                   v[2:, 1:-1] - \n",
    "                   v[:-2, 1:-1]) - \n",
    "         2 / dx * (u[2:, 1:-1] - u[:-2, 1:-1]) * \n",
    "                  (v[1:-1, 2:] - v[1:-1, :-2]) -\n",
    "        (u[1:-1, 2:] - u[1:-1, :-2])**2 / dx -\n",
    "        (v[2:, 1:-1] - v[:-2, 1:-1])**2 / dx) \n",
    "                    )\n",
    "\n",
    "    return b"
   ]
  },
  {
   "cell_type": "code",
   "execution_count": null,
   "metadata": {
    "collapsed": false
   },
   "outputs": [],
   "source": [
    "def pressure_poisson(p, b, l2_target=1e-4):\n",
    "    pn = p.copy()\n",
    "    iter_diff = l2_target + 1\n",
    "    while iter_diff > l2_target:\n",
    "        n = 0\n",
    "        pn = p.copy()\n",
    "        p[1:-1,1:-1] = (.25 * (pn[1:-1, 2:] + pn[1:-1, :-2] + pn[2:, 1:-1] + pn[:-2, 1:-1])\n",
    "                        - b[1:-1, 1:-1])\n",
    "        \n",
    "        p[:, 0] = p[:, 1]   #dp/dx = 0 at x = 0\n",
    "        p[:, -1] = p[:, -2] #dp/dy = 0 at x = 2\n",
    "        p[0, :] = p[1, :]   #dp/dy = 0 at y = 0\n",
    "        p[-1, :] = 0        #p = 0 at y = 2      \n",
    "        \n",
    "        if n % 10 == 0:\n",
    "            iter_diff = numpy.sqrt(numpy.sum((p - pn)**2)/numpy.sum(pn**2))\n",
    "        \n",
    "        if n == 500:\n",
    "            break\n",
    "            \n",
    "        n += 1\n",
    "        \n",
    "    return p"
   ]
  },
  {
   "cell_type": "markdown",
   "metadata": {},
   "source": [
    "The momentum equation in the $u$ direction:\n",
    "\n",
    "\\begin{align}\n",
    "u_{i,j}^{n+1} = u_{i,j}^{n} &- \\frac{\\Delta t}{\\Delta x} \\left( u_{i,j}^{n}(u_{i,j}^{n}-u_{i-1,j}^{n})\n",
    "+ v_{i,j}^{n} (u_{i,j}^{n}-u_{i,j-1}^{n}) + \\frac{1}{2 \\rho}(p_{i+1,j}^{n}-p_{i-1,j}^{n}) \\right) \\\\\n",
    "&+\\frac{\\nu \\Delta t}{\\Delta x^2}\\left(u_{i+1,j}^{n} + u_{i-1,j}^{n} + u_{i,j+1}^{n} + u_{i,j-1}^{n} -4u_{i,j}^{n}\\right)\n",
    "\\end{align}\n",
    "\n",
    "The momentum equation in the $v$ direction:\n",
    "\n",
    "\\begin{align}\n",
    "v_{i,j}^{n+1} = v_{i,j}^{n} &- \\frac{\\Delta t}{\\Delta x} \\left( u_{i,j}^{n}(v_{i,j}^{n}-v_{i-1,j}^{n})\n",
    "+ v_{i,j}^{n} (v_{i,j}^{n}-v_{i,j-1}^{n}) + \\frac{1}{2 \\rho}(p_{i,j+1}^{n}-p_{i,j-1}^{n}) \\right) \\\\\n",
    "&+\\frac{\\nu \\Delta t}{\\Delta x^2}\\left(v_{i+1,j}^{n} + v_{i-1,j}^{n} + v_{i,j+1}^{n} + v_{i,j-1}^{n} -4v_{i,j}^{n}\\right)\n",
    "\\end{align}\n",
    "\n"
   ]
  },
  {
   "cell_type": "code",
   "execution_count": null,
   "metadata": {
    "collapsed": true
   },
   "outputs": [],
   "source": [
    "def cavity_flow(nt, u, v, dt, dx, p, rho, nu):\n",
    "    un = numpy.empty_like(u)\n",
    "    vn = numpy.empty_like(v)\n",
    "    ny, nx = u.shape\n",
    "    b = numpy.zeros((ny, nx))\n",
    "\n",
    "    for n in range(nt):\n",
    "        un = u.copy()\n",
    "        vn = v.copy()\n",
    "\n",
    "        b = velocity_term(b, rho, dt, u, v, dx)\n",
    "        p = pressure_poisson(p, b, 1e-3)\n",
    "\n",
    "        u[1:-1,1:-1] = (un[1:-1, 1:-1] - dt / dx * \n",
    "                        (un[1:-1,1:-1] * (un[1:-1, 1:-1] - \n",
    "                                          un[1:-1, :-2]) +\n",
    "                        vn[1:-1, 1:-1 ] * (un[1:-1, 1:-1] - \n",
    "                                            un[:-2, 1:-1]) +\n",
    "                        1 / (2 * rho) * (p[1:-1, 2:] - \n",
    "                                         p[1:-1, :-2])) + \n",
    "                          nu * dt / dx**2 *\n",
    "                         (un[1:-1, 2:] + \n",
    "                          un[1:-1, :-2] + \n",
    "                          un[2:, 1:-1] + \n",
    "                          un[:-2, 1:-1] - \n",
    "                          4 * un[1:-1, 1:-1]))\n",
    "\n",
    "        v[1:-1,1:-1] = (vn[1:-1, 1:-1] - dt / dx * \n",
    "                        (un[1:-1,1:-1] * (vn[1:-1, 1:-1] - \n",
    "                                          vn[1:-1, :-2]) +\n",
    "                         vn[1:-1, 1:-1 ] * (vn[1:-1, 1:-1] - \n",
    "                                            vn[:-2, 1:-1]) +\n",
    "                        1 / (2 * rho) * (p[2:, 1:-1] - \n",
    "                                         p[:-2, 1:-1])) + \n",
    "                        nu * dt / dx**2 *\n",
    "                         (vn[1:-1, 2:] + \n",
    "                          vn[1:-1, :-2] + \n",
    "                          vn[2:, 1:-1] + \n",
    "                          vn[:-2, 1:-1] - \n",
    "                          4 * vn[1:-1, 1:-1]))\n",
    "\n",
    "        u[:, 0] = 0\n",
    "        u[:, -1] = 0\n",
    "        v[:, 0] = 0\n",
    "        v[:, -1] = 0\n",
    "        \n",
    "        u[0, :] = 0\n",
    "        u[-1, :] = 1    #set velocity on cavity lid equal to 1\n",
    "        v[0, :] = 0\n",
    "        v[-1, :] = 0\n",
    "        \n",
    "        \n",
    "        \n",
    "    return u, v, p"
   ]
  },
  {
   "cell_type": "code",
   "execution_count": null,
   "metadata": {
    "collapsed": true
   },
   "outputs": [],
   "source": [
    "import pickle"
   ]
  },
  {
   "cell_type": "code",
   "execution_count": null,
   "metadata": {
    "collapsed": true
   },
   "outputs": [],
   "source": [
    "def run_cavity():\n",
    "    nx = 41\n",
    "    ny = 41\n",
    "    with open('IC.pickle', 'rb') as f:\n",
    "        u, v, p, b = pickle.load(f)\n",
    "\n",
    "    dx = 2 / (nx - 1)\n",
    "    dy = 2 / (ny - 1)\n",
    "    rho = 1\n",
    "    nu = 0.1\n",
    "    dt = .005\n",
    "\n",
    "    nt = 500\n",
    "    u, v, p = cavity_flow(nt, u, v, dt, dx, p, rho, nu)\n",
    "    return u, v, p"
   ]
  },
  {
   "cell_type": "code",
   "execution_count": null,
   "metadata": {
    "collapsed": false,
    "scrolled": true
   },
   "outputs": [],
   "source": [
    "u, v, p = run_cavity()"
   ]
  },
  {
   "cell_type": "code",
   "execution_count": null,
   "metadata": {
    "collapsed": true
   },
   "outputs": [],
   "source": [
    "from matplotlib import pyplot, cm\n",
    "%matplotlib inline"
   ]
  },
  {
   "cell_type": "code",
   "execution_count": null,
   "metadata": {
    "collapsed": true
   },
   "outputs": [],
   "source": [
    "def quiver_plot(u, v, p, nx=41):\n",
    "    nx = 41\n",
    "    ny = nx\n",
    "    x = numpy.linspace(0, 2, nx)\n",
    "    y = numpy.linspace(0, 2, ny)\n",
    "    X, Y = numpy.meshgrid(x, y)\n",
    "\n",
    "    quiver_skip = qs = 4\n",
    "    pyplot.figure(figsize=(11, 7), dpi=100)\n",
    "    pyplot.contourf(X, Y, p, alpha=0.5, cmap=cm.viridis)\n",
    "    pyplot.colorbar()\n",
    "    pyplot.contour(X, Y, p)\n",
    "    pyplot.quiver(X[::qs, ::qs], Y[::qs, ::qs], u[::qs, ::qs], v[::qs, ::qs])"
   ]
  },
  {
   "cell_type": "code",
   "execution_count": null,
   "metadata": {
    "collapsed": false
   },
   "outputs": [],
   "source": [
    "quiver_plot(u, v, p)"
   ]
  },
  {
   "cell_type": "code",
   "execution_count": null,
   "metadata": {
    "collapsed": true
   },
   "outputs": [],
   "source": [
    "with open('numpy_ans.pickle', 'wb') as f:\n",
    "    pickle.dump((u, v, p), f)"
   ]
  },
  {
   "cell_type": "code",
   "execution_count": null,
   "metadata": {
    "collapsed": false
   },
   "outputs": [],
   "source": [
    "%%timeit\n",
    "run_cavity()"
   ]
  },
  {
   "cell_type": "code",
   "execution_count": null,
   "metadata": {
    "collapsed": true
   },
   "outputs": [],
   "source": []
  },
  {
   "cell_type": "code",
   "execution_count": null,
   "metadata": {
    "collapsed": false
   },
   "outputs": [],
   "source": [
    "%load_ext line_profiler"
   ]
  },
  {
   "cell_type": "code",
   "execution_count": null,
   "metadata": {
    "collapsed": false
   },
   "outputs": [],
   "source": [
    "%lprun -f cavity_flow run_cavity()"
   ]
  }
 ],
 "metadata": {
  "kernelspec": {
   "display_name": "Python 3",
   "language": "python",
   "name": "python3"
  },
  "language_info": {
   "codemirror_mode": {
    "name": "ipython",
    "version": 3
   },
   "file_extension": ".py",
   "mimetype": "text/x-python",
   "name": "python",
   "nbconvert_exporter": "python",
   "pygments_lexer": "ipython3",
   "version": "3.5.1"
  }
 },
 "nbformat": 4,
 "nbformat_minor": 0
}
