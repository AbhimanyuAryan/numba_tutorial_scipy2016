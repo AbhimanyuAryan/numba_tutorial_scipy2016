{
 "cells": [
  {
   "cell_type": "markdown",
   "metadata": {},
   "source": [
    "# Precompiling Numba modules"
   ]
  },
  {
   "cell_type": "markdown",
   "metadata": {},
   "source": [
    "One issue with Numba is that it can be hard to install.  With `conda` it's incredibly easy, but not everybody uses `conda` and trying to explain to users/collaborators why they're doing everything wrong is hard.  \n",
    "\n",
    "Tools like SWIG can compile C/C++ (or other) code at install time and make it available as a Python module if there's some serious numerical heavy-lifting required.  \n",
    "\n",
    "But if you have ever tried to use SWIG together with NumPy... suffice to say it's a less than ideal arrangement (please don't hurt me, @dabeaz)."
   ]
  },
  {
   "cell_type": "markdown",
   "metadata": {
    "collapsed": true
   },
   "source": [
    "## Ahead-of-Time compilation\n",
    "\n",
    "While Numba's main use is in JIT compiling, they do provide tools for doing AOT compilation.  This pre-compiled module does not rely on Numba, only on NumPy.  (If you are working with collaborators who don't have NumPy installed, I can't help you)."
   ]
  },
  {
   "cell_type": "markdown",
   "metadata": {},
   "source": [
    "We need to import `numpy`, of course, and also `numba.pycc.CC`"
   ]
  },
  {
   "cell_type": "code",
   "execution_count": null,
   "metadata": {
    "collapsed": true
   },
   "outputs": [],
   "source": [
    "import numpy\n",
    "from numba.pycc import CC"
   ]
  },
  {
   "cell_type": "markdown",
   "metadata": {},
   "source": [
    "Name the module `ppe` (I am not creative)"
   ]
  },
  {
   "cell_type": "code",
   "execution_count": null,
   "metadata": {
    "collapsed": true
   },
   "outputs": [],
   "source": [
    "cc = CC('ppe')\n",
    "cc.verbose = True"
   ]
  },
  {
   "cell_type": "code",
   "execution_count": null,
   "metadata": {
    "collapsed": false
   },
   "outputs": [],
   "source": [
    "@cc.export('pressure_poisson', \n",
    "           'f8[:,:](f8[:,:], f8[:,:], f8)')\n",
    "def pressure_poisson(p, b, l2_target=1e-3):\n",
    "    pn = p.copy()\n",
    "    J, I = b.shape\n",
    "\n",
    "    iter_diff = l2_target + 1\n",
    "\n",
    "    n = 0\n",
    "    while iter_diff > l2_target:\n",
    "        pn = p.copy()\n",
    "        for j in range(1, J - 1):\n",
    "            for i in range(1, I - 1):\n",
    "                p[j, i] = (.25 * (pn[j, i + 1] +\n",
    "                                  pn[j, i - 1] +\n",
    "                                  pn[j + 1, i] +\n",
    "                                  pn[j - 1, i]) -\n",
    "                                  b[j, i])\n",
    "\n",
    "        for j in range(J):\n",
    "            p[j, 0] = p[j, 1]\n",
    "            p[j, -1] = p[j, -2]\n",
    "\n",
    "        for i in range(I):\n",
    "            p[0, i] = p[1, i]\n",
    "            p[-1, i] = 0\n",
    "\n",
    "        if n % 10 == 0:\n",
    "            iter_diff = (numpy.sum((p - pn)**2)/numpy.sum(pn**2))**.5\n",
    "        if n == 500:\n",
    "            break\n",
    "\n",
    "        n += 1\n",
    "\n",
    "    return p\n"
   ]
  },
  {
   "cell_type": "code",
   "execution_count": null,
   "metadata": {
    "collapsed": false
   },
   "outputs": [],
   "source": [
    "cc.compile()"
   ]
  },
  {
   "cell_type": "code",
   "execution_count": null,
   "metadata": {
    "collapsed": false
   },
   "outputs": [],
   "source": [
    "%ls"
   ]
  }
 ],
 "metadata": {
  "kernelspec": {
   "display_name": "Python 3",
   "language": "python",
   "name": "python3"
  },
  "language_info": {
   "codemirror_mode": {
    "name": "ipython",
    "version": 3
   },
   "file_extension": ".py",
   "mimetype": "text/x-python",
   "name": "python",
   "nbconvert_exporter": "python",
   "pygments_lexer": "ipython3",
   "version": "3.5.1"
  }
 },
 "nbformat": 4,
 "nbformat_minor": 0
}
