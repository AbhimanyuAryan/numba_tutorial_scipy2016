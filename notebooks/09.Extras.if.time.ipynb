{
 "cells": [
  {
   "cell_type": "markdown",
   "metadata": {},
   "source": [
    "## Using Dask with Numba"
   ]
  },
  {
   "cell_type": "code",
   "execution_count": null,
   "metadata": {
    "collapsed": true
   },
   "outputs": [],
   "source": [
    "import numpy\n",
    "from matplotlib import pyplot, cm, cbook\n",
    "%matplotlib inline\n",
    "\n",
    "from numba import guvectorize"
   ]
  },
  {
   "cell_type": "code",
   "execution_count": null,
   "metadata": {
    "collapsed": true
   },
   "outputs": [],
   "source": [
    "import dask.array as da"
   ]
  },
  {
   "cell_type": "code",
   "execution_count": null,
   "metadata": {
    "collapsed": true
   },
   "outputs": [],
   "source": [
    "@guvectorize(['(int16[:,:], int16[:], int16[:,:])',\n",
    "              '(int32[:,:], int32[:], int32[:,:])',\n",
    "              '(float32[:,:], float32[:], float32[:,:])',\n",
    "              '(float64[:,:], float64[:], float64[:,:])'], '(n,n),(m)->(m,m)')\n",
    "def restrict_2d_gvec(fine, size, coarse):\n",
    "    I, J = coarse.shape\n",
    "    for i in range(1, I - 1):\n",
    "        for j in range(1, J - 1):\n",
    "            coarse[i, j] = (\n",
    "                    1/16 * (\n",
    "                    fine[2 * i - 1, 2 * j - 1] +\n",
    "                    fine[2 * i - 1, 2 * j + 1] +\n",
    "                    fine[2 * i + 1, 2 * j - 1] +\n",
    "                    fine[2 * i + 1, 2 * j + 1]) +\n",
    "\n",
    "                    1/8 * (\n",
    "                    fine[2 * i, 2 * j - 1] +\n",
    "                    fine[2 * i, 2 * j + 1] +\n",
    "                    fine[2 * i - 1, 2 * j] +\n",
    "                    fine[2 * i + 1, 2 * j]) +\n",
    "\n",
    "                    1/4 * fine[i, j])\n"
   ]
  },
  {
   "cell_type": "code",
   "execution_count": null,
   "metadata": {
    "collapsed": false
   },
   "outputs": [],
   "source": [
    "filename = cbook.get_sample_data('jacksboro_fault_dem.npz', asfileobj=False)\n",
    "with numpy.load(filename) as dem:\n",
    "    z = dem['elevation']"
   ]
  },
  {
   "cell_type": "code",
   "execution_count": null,
   "metadata": {
    "collapsed": false
   },
   "outputs": [],
   "source": [
    "z = numpy.float64(z)\n",
    "z = z[:300, :300]"
   ]
  },
  {
   "cell_type": "markdown",
   "metadata": {},
   "source": [
    "### Create dask array from `z`"
   ]
  },
  {
   "cell_type": "code",
   "execution_count": null,
   "metadata": {
    "collapsed": true
   },
   "outputs": [],
   "source": [
    "d = da.from_array(z, chunks=(z.shape[0]//3))"
   ]
  },
  {
   "cell_type": "code",
   "execution_count": null,
   "metadata": {
    "collapsed": false
   },
   "outputs": [],
   "source": [
    "d.chunks"
   ]
  },
  {
   "cell_type": "code",
   "execution_count": null,
   "metadata": {
    "collapsed": false
   },
   "outputs": [],
   "source": [
    "#ghost all chunk boundaries by 2 \n",
    "#because you have to halve them later\n",
    "g = da.ghost.ghost(d, depth={0: 2, 1: 2}, \n",
    "                  boundary={0: 'reflect', 1: 'reflect'})\n",
    "\n",
    "#function to map onto blocks\n",
    "def restrict_func(block):\n",
    "    y = numpy.zeros_like(block[::2,::2])\n",
    "    return restrict_2d_gvec(block, numpy.empty(y.shape[0]), y)\n",
    "\n",
    "#map blocks, specify new chunksize = old chunksize / 2\n",
    "g2 = g.map_blocks(restrict_func, chunks=(g.chunks[0][0]//2, \n",
    "                                        g.chunks[0][1]//2))"
   ]
  },
  {
   "cell_type": "code",
   "execution_count": null,
   "metadata": {
    "collapsed": false
   },
   "outputs": [],
   "source": [
    "a = g2.compute()"
   ]
  },
  {
   "cell_type": "code",
   "execution_count": null,
   "metadata": {
    "collapsed": false
   },
   "outputs": [],
   "source": [
    "pyplot.figure(figsize=(8, 8))\n",
    "pyplot.imshow(a, cmap=cm.viridis)"
   ]
  },
  {
   "cell_type": "code",
   "execution_count": null,
   "metadata": {
    "collapsed": false
   },
   "outputs": [],
   "source": [
    "res = da.ghost.trim_internal(g2, {0: 1, 1: 1})"
   ]
  },
  {
   "cell_type": "code",
   "execution_count": null,
   "metadata": {
    "collapsed": true
   },
   "outputs": [],
   "source": [
    "a = res.compute()"
   ]
  },
  {
   "cell_type": "code",
   "execution_count": null,
   "metadata": {
    "collapsed": false
   },
   "outputs": [],
   "source": [
    "res.chunks"
   ]
  },
  {
   "cell_type": "code",
   "execution_count": null,
   "metadata": {
    "collapsed": false
   },
   "outputs": [],
   "source": [
    "pyplot.figure(figsize=(8, 8))\n",
    "pyplot.imshow(a, cmap=cm.viridis)"
   ]
  },
  {
   "cell_type": "markdown",
   "metadata": {},
   "source": [
    "## Large problem"
   ]
  },
  {
   "cell_type": "code",
   "execution_count": null,
   "metadata": {
    "collapsed": true
   },
   "outputs": [],
   "source": [
    "x = da.random.random(size=(50000, 50000), chunks=(5000, 5000))"
   ]
  },
  {
   "cell_type": "code",
   "execution_count": null,
   "metadata": {
    "collapsed": true
   },
   "outputs": [],
   "source": [
    "#ghost all chunk boundaries by 2 \n",
    "#because you have to halve them later\n",
    "g = da.ghost.ghost(x, depth={0: 2, 1: 2}, \n",
    "                  boundary={0: 'reflect', 1: 'reflect'})\n",
    "\n",
    "#function to map onto blocks\n",
    "def restrict_func(block):\n",
    "    y = numpy.zeros_like(block[::2,::2])\n",
    "    return restrict_2d_gvec(block, numpy.empty(y.shape[0]), y)\n",
    "\n",
    "#map blocks, specify new chunksize = old chunksize / 2\n",
    "g2 = g.map_blocks(restrict_func, chunks=g.chunks[0][:2])\n",
    "\n",
    "#trim off remaining ghosting\n",
    "res = da.ghost.trim_internal(g2, {0: 1, 1: 1})"
   ]
  },
  {
   "cell_type": "code",
   "execution_count": null,
   "metadata": {
    "collapsed": true
   },
   "outputs": [],
   "source": [
    "a = res.compute()"
   ]
  },
  {
   "cell_type": "code",
   "execution_count": null,
   "metadata": {
    "collapsed": false
   },
   "outputs": [],
   "source": [
    "a.shape"
   ]
  },
  {
   "cell_type": "code",
   "execution_count": null,
   "metadata": {
    "collapsed": true
   },
   "outputs": [],
   "source": []
  }
 ],
 "metadata": {
  "kernelspec": {
   "display_name": "Python 3",
   "language": "python",
   "name": "python3"
  },
  "language_info": {
   "codemirror_mode": {
    "name": "ipython",
    "version": 3
   },
   "file_extension": ".py",
   "mimetype": "text/x-python",
   "name": "python",
   "nbconvert_exporter": "python",
   "pygments_lexer": "ipython3",
   "version": "3.5.1"
  }
 },
 "nbformat": 4,
 "nbformat_minor": 0
}
