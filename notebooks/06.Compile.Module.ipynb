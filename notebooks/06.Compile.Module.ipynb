{
 "cells": [
  {
   "cell_type": "markdown",
   "metadata": {},
   "source": [
    "# Precompiling Numba modules"
   ]
  },
  {
   "cell_type": "markdown",
   "metadata": {},
   "source": [
    "One issue with Numba is that it can be hard to install.  With `conda` it's incredibly easy, but not everybody uses `conda` and trying to explain to users/collaborators why they're doing everything wrong is hard.  \n",
    "\n",
    "Tools like SWIG can compile C/C++ (or other) code at install time and make it available as a Python module if there's some serious numerical heavy-lifting required.  \n",
    "\n",
    "But if you have ever tried to use SWIG together with NumPy... suffice to say it's a less than ideal arrangement (please don't hurt me, @dabeaz)."
   ]
  },
  {
   "cell_type": "markdown",
   "metadata": {
    "collapsed": true
   },
   "source": [
    "## Ahead-of-Time compilation\n",
    "\n",
    "While Numba's main use is in JIT compiling, they do provide tools for doing AOT compilation.  This pre-compiled module does not rely on Numba, only on NumPy.  (If you are working with collaborators who don't have NumPy installed, I can't help you)."
   ]
  },
  {
   "cell_type": "markdown",
   "metadata": {},
   "source": [
    "We need to import `numpy`, of course, and also `numba.pycc.CC`"
   ]
  },
  {
   "cell_type": "code",
   "execution_count": 1,
   "metadata": {
    "collapsed": true
   },
   "outputs": [],
   "source": [
    "import numpy\n",
    "from numba.pycc import CC"
   ]
  },
  {
   "cell_type": "markdown",
   "metadata": {},
   "source": [
    "Name the module `ppe` (I am not creative)"
   ]
  },
  {
   "cell_type": "code",
   "execution_count": 2,
   "metadata": {
    "collapsed": true
   },
   "outputs": [],
   "source": [
    "cc = CC('ppe')\n",
    "cc.verbose = True"
   ]
  },
  {
   "cell_type": "code",
   "execution_count": 3,
   "metadata": {
    "collapsed": false
   },
   "outputs": [],
   "source": [
    "@cc.export('pressure_poisson', \n",
    "           'f8[:,:](f8[:,:], f8, f8, f8[:,:], f8)')\n",
    "def pressure_poisson(p, dx, dy, b, l2_target=1e-4):\n",
    "    pn = p.copy()\n",
    "    J, I = b.shape\n",
    "    \n",
    "    \n",
    "    iter_diff = l2_target + 1\n",
    "    \n",
    "    while iter_diff > l2_target:\n",
    "        n = 0\n",
    "        pn = p.copy()\n",
    "        for j in range(1, J - 1):\n",
    "            for i in range(1, I - 1):\n",
    "                p[j, i] = (((pn[j, i + 1] + pn[j, i - 1]) * dy**2 + \n",
    "                            (pn[j + 1, i] + pn[j - 1, i]) * dx**2) /\n",
    "                            (2 * (dx**2 + dy**2)) -\n",
    "                            dx**2 * dy**2 / (2 * (dx**2 + dy**2)) *\n",
    "                            b[j, i])\n",
    "\n",
    "        for j in range(J):\n",
    "            p[j, 0] = p[j, 1]\n",
    "            p[j, -1] = p[j, -2]\n",
    "            \n",
    "        for i in range(I):\n",
    "            p[0, i] = p[1, i]\n",
    "            p[-1, i] = 0\n",
    "            \n",
    "        \n",
    "        if n % 10 == 0:\n",
    "            iter_diff = (numpy.sum((p - pn)**2)/numpy.sum(pn**2))**.5\n",
    "        if n == 500:\n",
    "            break\n",
    "            \n",
    "        n += 1\n",
    "        \n",
    "    return p\n"
   ]
  },
  {
   "cell_type": "code",
   "execution_count": 4,
   "metadata": {
    "collapsed": false
   },
   "outputs": [
    {
     "name": "stdout",
     "output_type": "stream",
     "text": [
      "generating LLVM code for 'ppe' into /tmp/pycc-build-ppe-s9208isc/ppe.cpython-35m-x86_64-linux-gnu.o\n",
      "C compiler: gcc -pthread -Wsign-compare -Wunreachable-code -DNDEBUG -g -fwrapv -O3 -Wall -Wstrict-prototypes -fPIC\n",
      "\n",
      "creating /tmp/pycc-build-ppe-s9208isc/home\n",
      "creating /tmp/pycc-build-ppe-s9208isc/home/gil\n",
      "creating /tmp/pycc-build-ppe-s9208isc/home/gil/anaconda\n",
      "creating /tmp/pycc-build-ppe-s9208isc/home/gil/anaconda/lib\n",
      "creating /tmp/pycc-build-ppe-s9208isc/home/gil/anaconda/lib/python3.5\n",
      "creating /tmp/pycc-build-ppe-s9208isc/home/gil/anaconda/lib/python3.5/site-packages\n",
      "creating /tmp/pycc-build-ppe-s9208isc/home/gil/anaconda/lib/python3.5/site-packages/numba\n",
      "creating /tmp/pycc-build-ppe-s9208isc/home/gil/anaconda/lib/python3.5/site-packages/numba/pycc\n",
      "creating /tmp/pycc-build-ppe-s9208isc/home/gil/anaconda/lib/python3.5/site-packages/numba/runtime\n",
      "compile options: '-DPYCC_MODULE_NAME=ppe -DPYCC_USE_NRT=1 -I/home/gil/anaconda/include/python3.5m -I/home/gil/anaconda/lib/python3.5/site-packages/numpy/core/include -c'\n",
      "Warning: Can't read registry to find the necessary compiler setting\n",
      "Make sure that Python modules winreg, win32api or win32con are installed.\n",
      "gcc: /home/gil/anaconda/lib/python3.5/site-packages/numba/pycc/../runtime/nrt.c\n",
      "gcc: /home/gil/anaconda/lib/python3.5/site-packages/numba/pycc/../_math_c99.c\n",
      "gcc: /home/gil/anaconda/lib/python3.5/site-packages/numba/pycc/modulemixin.c\n",
      "gcc -pthread -shared -L/home/gil/anaconda/lib -Wl,-rpath=/home/gil/anaconda/lib,--no-as-needed /tmp/pycc-build-ppe-s9208isc/ppe.cpython-35m-x86_64-linux-gnu.o /tmp/pycc-build-ppe-s9208isc/home/gil/anaconda/lib/python3.5/site-packages/numba/pycc/modulemixin.o /tmp/pycc-build-ppe-s9208isc/home/gil/anaconda/lib/python3.5/site-packages/numba/_math_c99.o /tmp/pycc-build-ppe-s9208isc/home/gil/anaconda/lib/python3.5/site-packages/numba/runtime/nrt.o -L/home/gil/anaconda/lib -L/home/gil/anaconda/lib/python3.5/site-packages/numpy/core/lib -lpython3.5m -lnpymath -lm -o ppe.cpython-35m-x86_64-linux-gnu.so\n"
     ]
    }
   ],
   "source": [
    "cc.compile()"
   ]
  },
  {
   "cell_type": "code",
   "execution_count": 5,
   "metadata": {
    "collapsed": false
   },
   "outputs": [
    {
     "name": "stdout",
     "output_type": "stream",
     "text": [
      "01.When.where.to.use.Numba.ipynb  06.Compile.Module.ipynb\r\n",
      "02.How.Numba.Works.ipynb          0.What.is.Numba.ipynb\r\n",
      "04.a.cavity_flow_numpy.ipynb      3.Direct.Summation.ipynb\r\n",
      "04.b.cavity_flow_numba_ppe.ipynb  IC.pickle\r\n",
      "04.c.cavity_flow_cython.ipynb     numpy_ans.pickle\r\n",
      "05.Make.your.own.ufuncs.ipynb     \u001b[0m\u001b[01;32mppe.cpython-35m-x86_64-linux-gnu.so\u001b[0m*\r\n",
      "06.b.Test.Compiled.Module.ipynb   \u001b[01;34msnippets\u001b[0m/\r\n"
     ]
    }
   ],
   "source": [
    "%ls"
   ]
  },
  {
   "cell_type": "code",
   "execution_count": null,
   "metadata": {
    "collapsed": true
   },
   "outputs": [],
   "source": []
  }
 ],
 "metadata": {
  "kernelspec": {
   "display_name": "Python 3",
   "language": "python",
   "name": "python3"
  },
  "language_info": {
   "codemirror_mode": {
    "name": "ipython",
    "version": 3
   },
   "file_extension": ".py",
   "mimetype": "text/x-python",
   "name": "python",
   "nbconvert_exporter": "python",
   "pygments_lexer": "ipython3",
   "version": "3.5.1"
  }
 },
 "nbformat": 4,
 "nbformat_minor": 0
}
