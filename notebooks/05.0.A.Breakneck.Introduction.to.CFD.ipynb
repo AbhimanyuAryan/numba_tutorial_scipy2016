{
 "cells": [
  {
   "cell_type": "markdown",
   "metadata": {},
   "source": [
    "## Application - Pressure Poisson Equation"
   ]
  },
  {
   "cell_type": "markdown",
   "metadata": {},
   "source": [
    "The momentum equation for the velocity field $\\vec{v\\ }$ in a fluid is\n",
    "\n",
    "\\begin{equation}\n",
    "\\frac{\\partial \\vec{v}}{\\partial t}+(\\vec{v}\\cdot\\nabla)\\vec{v}=-\\frac{1}{\\rho}\\nabla p + \\nu \\nabla^2\\vec{v}\n",
    "\\end{equation}\n",
    "\n",
    "where $p$ is the pressure, $\\nu$ is the fluid viscosity and $\\rho$ is the fluid density. With three velocity components, plus the pressure, we have four unknowns but only three equations. For compressible fluids, we have an equation of state to complete the system. In the incompressible case, we don't have an equation of state and we need an additional constraint from somewhere else. \n",
    "\n",
    "This is what we do: take the divergence of the momentum equation, apply the incompressibility constraint to cancel some terms, and get an equation for the pressure. It's a pretty cool trick."
   ]
  },
  {
   "cell_type": "markdown",
   "metadata": {},
   "source": [
    "Conservation of mass for an incompressible fluid requires that the divergence of $u$ must be zero:\n",
    "\n",
    "$$\\nabla \\cdot u = 0$$"
   ]
  },
  {
   "cell_type": "markdown",
   "metadata": {},
   "source": [
    "Writing out the momentum equation in $x$ and $y$ (for 2d flow), we get"
   ]
  },
  {
   "cell_type": "markdown",
   "metadata": {},
   "source": [
    "$$\\frac{\\partial u}{\\partial t}+u\\frac{\\partial u}{\\partial x}+v\\frac{\\partial u}{\\partial y} = -\\frac{1}{\\rho}\\frac{\\partial p}{\\partial x}+\\nu \\left(\\frac{\\partial^2 u}{\\partial x^2}+\\frac{\\partial^2 u}{\\partial y^2} \\right) $$\n",
    "\n",
    "\n",
    "$$\\frac{\\partial v}{\\partial t}+u\\frac{\\partial v}{\\partial x}+v\\frac{\\partial v}{\\partial y} = -\\frac{1}{\\rho}\\frac{\\partial p}{\\partial y}+\\nu\\left(\\frac{\\partial^2 v}{\\partial x^2}+\\frac{\\partial^2 v}{\\partial y^2}\\right) $$"
   ]
  },
  {
   "cell_type": "markdown",
   "metadata": {},
   "source": [
    "We take the divergence of the momentum equation and then apply the incompressibility constraint.  After some wrangling and cancellations, this leaves us with the pressure poisson equation.\n",
    "\n",
    "$$\\frac{\\partial^2 p}{\\partial x^2}+\\frac{\\partial^2 p}{\\partial y^2} = -\\rho\\left(\\frac{\\partial u}{\\partial x}\\frac{\\partial u}{\\partial x}+2\\frac{\\partial u}{\\partial y}\\frac{\\partial v}{\\partial x}+\\frac{\\partial v}{\\partial y}\\frac{\\partial v}{\\partial y} \\right)$$"
   ]
  },
  {
   "cell_type": "markdown",
   "metadata": {},
   "source": [
    "Which is of the form"
   ]
  },
  {
   "cell_type": "markdown",
   "metadata": {},
   "source": [
    "$$\\frac{\\partial ^2 p}{\\partial x^2} + \\frac{\\partial ^2 p}{\\partial y^2} = b$$"
   ]
  },
  {
   "cell_type": "markdown",
   "metadata": {},
   "source": [
    "Imagine we discretize a domain as in the figure below:"
   ]
  },
  {
   "cell_type": "markdown",
   "metadata": {},
   "source": [
    "<img src='./figures/2dgrid.svg' width=350>"
   ]
  },
  {
   "cell_type": "markdown",
   "metadata": {},
   "source": [
    "Then the left-hand side of the equation \n",
    "\n",
    "$$\\frac{\\partial ^2 p}{\\partial x^2} + \\frac{\\partial ^2 p}{\\partial y^2} = b$$\n",
    "\n",
    "discretized using 2nd-order central differences would read\n",
    "\n",
    "\n",
    "$$\\frac{p^n_{i+1, j} - 2p^n_{i,j} + p^n_{i - 1, j}}{\\Delta x ^2} + \\frac{p^n_{i, j+1} - 2p^n_{i,j} + p^n_{i, j-1}}{\\Delta y ^2}$$\n",
    "\n",
    "\n",
    "\n",
    "where subscripts denote position within a cartesian coordinate system and superscripts denote position in time."
   ]
  },
  {
   "cell_type": "markdown",
   "metadata": {},
   "source": [
    "We apply a similar discretization to the momentum equation (forward-time, backward-space for the 1st-order terms) and also assume a uniform domain, so $\\Delta x = \\Delta y$\n"
   ]
  },
  {
   "cell_type": "markdown",
   "metadata": {},
   "source": [
    "## Solution procedure"
   ]
  },
  {
   "cell_type": "markdown",
   "metadata": {},
   "source": [
    "### Initial velocity field"
   ]
  },
  {
   "cell_type": "markdown",
   "metadata": {},
   "source": [
    "We start with a velocity field in $u$ and $v$ at some timestep `n`. "
   ]
  },
  {
   "cell_type": "markdown",
   "metadata": {},
   "source": [
    "### Calculate pressure"
   ]
  },
  {
   "cell_type": "markdown",
   "metadata": {},
   "source": [
    "Then, we iteratively solve the Poisson equation for pressure, where the $k$ superscript denotes an iteration in 'pseudo-time' (we repeatedly solve the Poisson equation until it reaches a quasi-steady state):\n",
    "\n",
    "\n",
    "\\begin{align}\n",
    "p_{i,j}^{k+1} &= \\frac{1}{4}\\left(p_{i+1,j}^{k}+p_{i-1,j}^{k}+p_{i,j+1}^{k}+p_{i,j-1}^{k}\\right) \\\\\n",
    "&-\\frac{\\rho \\Delta x}{16} \\left( \\frac{2}{\\Delta t} \\left(u_{i+1,j} - u_{i-1,j} + v_{i,j+1} - v_{i,j-1}\\right) \\right . \\\\\n",
    "&-\\frac{2}{\\Delta x}\\left(u_{i,j+1} - u_{i,j-1} \\right) \\left(v_{i+1,j} - v_{i-1,j} \\right) \\\\\n",
    "&- \\left . \\frac{\\left(u_{i+1,j} - u_{i-1,j} \\right)^2}{\\Delta x} \n",
    "- \\frac{ \\left(v_{i,j+1} - v_{i,j-1} \\right)^2 }{\\Delta x} \\right) \\\\\n",
    "\\end{align}"
   ]
  },
  {
   "cell_type": "markdown",
   "metadata": {},
   "source": [
    "### Update the velocity"
   ]
  },
  {
   "cell_type": "markdown",
   "metadata": {},
   "source": [
    "Once the Poisson equation reaches this quasi-steady state, we take the pressure field as $p^n$ and then use it to solve for the velocity in $u$ and $v$ at the next timestep, $n+1$."
   ]
  },
  {
   "cell_type": "markdown",
   "metadata": {},
   "source": [
    "The momentum equation in the $u$ direction:\n",
    "\n",
    "\\begin{align}\n",
    "u_{i,j}^{n+1} = u_{i,j}^{n} &- \\frac{\\Delta t}{\\Delta x} \\left( u_{i,j}^{n}(u_{i,j}^{n}-u_{i-1,j}^{n})\n",
    "+ v_{i,j}^{n} (u_{i,j}^{n}-u_{i,j-1}^{n}) + \\frac{1}{2 \\rho}(p_{i+1,j}^{n}-p_{i-1,j}^{n}) \\right) \\\\\n",
    "&+\\frac{\\nu \\Delta t}{\\Delta x^2}\\left(u_{i+1,j}^{n} + u_{i-1,j}^{n} + u_{i,j+1}^{n} + u_{i,j-1}^{n} -4u_{i,j}^{n}\\right)\n",
    "\\end{align}\n",
    "\n",
    "The momentum equation in the $v$ direction:\n",
    "\n",
    "\\begin{align}\n",
    "v_{i,j}^{n+1} = v_{i,j}^{n} &- \\frac{\\Delta t}{\\Delta x} \\left( u_{i,j}^{n}(v_{i,j}^{n}-v_{i-1,j}^{n})\n",
    "+ v_{i,j}^{n} (v_{i,j}^{n}-v_{i,j-1}^{n}) + \\frac{1}{2 \\rho}(p_{i,j+1}^{n}-p_{i,j-1}^{n}) \\right) \\\\\n",
    "&+\\frac{\\nu \\Delta t}{\\Delta x^2}\\left(v_{i+1,j}^{n} + v_{i-1,j}^{n} + v_{i,j+1}^{n} + v_{i,j-1}^{n} -4v_{i,j}^{n}\\right)\n",
    "\\end{align}\n",
    "\n"
   ]
  },
  {
   "cell_type": "markdown",
   "metadata": {},
   "source": [
    "Then, rinse and repeat."
   ]
  }
 ],
 "metadata": {
  "kernelspec": {
   "display_name": "Python 2",
   "language": "python",
   "name": "python2"
  },
  "language_info": {
   "codemirror_mode": {
    "name": "ipython",
    "version": 2
   },
   "file_extension": ".py",
   "mimetype": "text/x-python",
   "name": "python",
   "nbconvert_exporter": "python",
   "pygments_lexer": "ipython2",
   "version": "2.7.10"
  }
 },
 "nbformat": 4,
 "nbformat_minor": 0
}
