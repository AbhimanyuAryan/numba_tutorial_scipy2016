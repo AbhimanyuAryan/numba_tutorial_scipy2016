{
 "cells": [
  {
   "cell_type": "code",
   "execution_count": null,
   "metadata": {
    "collapsed": true
   },
   "outputs": [],
   "source": [
    "import numpy"
   ]
  },
  {
   "cell_type": "markdown",
   "metadata": {},
   "source": [
    "$$\n",
    "p_{i,j}^{n}=\\frac{(p_{i+1,j}^{n}+p_{i-1,j}^{n})\\Delta y^2+(p_{i,j+1}^{n}+p_{i,j-1}^{n})\\Delta x^2}{2(\\Delta x^2+\\Delta y^2)}-\\frac{\\rho\\Delta x^2\\Delta y^2}{2(\\Delta x^2+\\Delta y^2)} \\times$$\n",
    "\n",
    "$$\\left[\\frac{1}{\\Delta t}\\left(\\frac{u_{i+1,j}-u_{i-1,j}}{2\\Delta x}+\\frac{v_{i,j+1}-v_{i,j-1}}{2\\Delta y}\\right)-\\frac{u_{i+1,j}-u_{i-1,j}}{2\\Delta x}\\frac{u_{i+1,j}-u_{i-1,j}}{2\\Delta x}\\right. $$\n",
    "\n",
    "$$ -2\\frac{u_{i,j+1}-u_{i,j-1}}{2\\Delta y}\\frac{v_{i+1,j}-v_{i-1,j}}{2\\Delta x}-\\left.\\frac{v_{i,j+1}-v_{i,j-1}}{2\\Delta y}\\frac{v_{i,j+1}-v_{i,j-1}}{2\\Delta y}\\right]$$"
   ]
  },
  {
   "cell_type": "code",
   "execution_count": null,
   "metadata": {
    "collapsed": true
   },
   "outputs": [],
   "source": [
    "def bracket_term_ppe(b, rho, dt, u, v, dx, dy):\n",
    "    b[1:-1, 1:-1] = (\n",
    "        rho * (1 / dt * ((u[1:-1, 2:] - u[1:-1, 0:-2]) / (2 * dx) +\n",
    "                         (v[2:, 1:-1] - v[0:-2, 1:-1]) / (2 * dy)) -\n",
    "                        ((u[1:-1, 2:] - u[1:-1, 0:-2]) / (2 * dx))**2 -\n",
    "                    2 * ((u[2:, 1:-1] - u[0:-2, 1:-1]) / (2 * dy) *\n",
    "                         (v[1:-1, 2:] - v[1:-1, 0:-2]) / (2 * dx)) -\n",
    "                        ((v[2:, 1:-1] - v[0:-2, 1:-1]) / (2 * dy))**2)\n",
    "                    )\n",
    "\n",
    "    return b\n"
   ]
  },
  {
   "cell_type": "code",
   "execution_count": null,
   "metadata": {
    "collapsed": false,
    "scrolled": true
   },
   "outputs": [],
   "source": [
    "b = numpy.zeros((5,5))\n",
    "u = numpy.zeros((5,5))\n",
    "v = numpy.zeros((5,5))\n",
    "dx = 0.1\n",
    "dy = 0.1\n",
    "dt = 0.1\n",
    "rho = 1.\n",
    "bracket_term_ppe(b, rho, dt, u, v, dx, dy)"
   ]
  },
  {
   "cell_type": "markdown",
   "metadata": {},
   "source": [
    "$$\n",
    "p_{i,j}^{n}=\\frac{(p_{i+1,j}^{n}+p_{i-1,j}^{n})\\Delta y^2+(p_{i,j+1}^{n}+p_{i,j-1}^{n})\\Delta x^2}{2(\\Delta x^2+\\Delta y^2)}-\\frac{\\rho\\Delta x^2\\Delta y^2}{2(\\Delta x^2+\\Delta y^2)} \\times$$\n",
    "\n",
    "$$\\left[\\frac{1}{\\Delta t}\\left(\\frac{u_{i+1,j}-u_{i-1,j}}{2\\Delta x}+\\frac{v_{i,j+1}-v_{i,j-1}}{2\\Delta y}\\right)-\\frac{u_{i+1,j}-u_{i-1,j}}{2\\Delta x}\\frac{u_{i+1,j}-u_{i-1,j}}{2\\Delta x}\\right. $$\n",
    "\n",
    "$$ -2\\frac{u_{i,j+1}-u_{i,j-1}}{2\\Delta y}\\frac{v_{i+1,j}-v_{i-1,j}}{2\\Delta x}-\\left.\\frac{v_{i,j+1}-v_{i,j-1}}{2\\Delta y}\\frac{v_{i,j+1}-v_{i,j-1}}{2\\Delta y}\\right]$$"
   ]
  },
  {
   "cell_type": "code",
   "execution_count": null,
   "metadata": {
    "collapsed": false
   },
   "outputs": [],
   "source": [
    "def pressure_poisson(p, dx, dy, b, l2_target=1e-4):\n",
    "    #pn = numpy.empty_like(p)\n",
    "    pn = p.copy()\n",
    "    iter_diff = l2_target + 1\n",
    "    while iter_diff > l2_target:\n",
    "        n = 0\n",
    "        pn = p.copy()\n",
    "        p[1:-1,1:-1] = (((pn[1:-1, 2:] + pn[1:-1, 0:-2]) * dy**2 + \n",
    "                        (pn[2:, 1:-1] + pn[0:-2, 1:-1]) * dx**2) /\n",
    "                        (2 * (dx**2 + dy**2)) -\n",
    "                        dx**2 * dy**2 / (2 * (dx**2 + dy**2)) *\n",
    "                        b[1:-1, 1:-1])\n",
    "\n",
    "        \n",
    "        p[:, 0] = p[:, 1]   #dp/dx = 0 at x = 0\n",
    "        p[:, -1] = p[:, -2] #dp/dy = 0 at x = 2\n",
    "        p[0, :] = p[1, :]   #dp/dy = 0 at y = 0\n",
    "        p[-1, :] = 0        #p = 0 at y = 2\n",
    "        \n",
    "       \n",
    "        \n",
    "        if n % 10 == 0:\n",
    "            iter_diff = numpy.sqrt(numpy.sum((p - pn)**2)/numpy.sum(pn**2))\n",
    "        \n",
    "        if n == 500:\n",
    "            break\n",
    "            \n",
    "        n += 1\n",
    "        \n",
    "    return p"
   ]
  },
  {
   "cell_type": "code",
   "execution_count": null,
   "metadata": {
    "collapsed": true
   },
   "outputs": [],
   "source": [
    "b = bracket_term_ppe(b, rho, dt, u, v, dx, dy)"
   ]
  },
  {
   "cell_type": "code",
   "execution_count": null,
   "metadata": {
    "collapsed": true
   },
   "outputs": [],
   "source": [
    "p = numpy.random.random((5,5))"
   ]
  },
  {
   "cell_type": "code",
   "execution_count": null,
   "metadata": {
    "collapsed": false
   },
   "outputs": [],
   "source": [
    "pressure_poisson(p, dx, dy, b)"
   ]
  },
  {
   "cell_type": "markdown",
   "metadata": {},
   "source": [
    "The momentum equation in the $u$ direction:\n",
    "\n",
    "$$\n",
    "u_{i,j}^{n+1} = u_{i,j}^{n} - u_{i,j}^{n}\\frac{\\Delta t}{\\Delta x}(u_{i,j}^{n}-u_{i-1,j}^{n})\n",
    "- v_{i,j}^{n}\\frac{\\Delta t}{\\Delta y}(u_{i,j}^{n}-u_{i,j-1}^{n})$$\n",
    "$$-\\frac{\\Delta t}{\\rho 2\\Delta x}(p_{i+1,j}^{n}-p_{i-1,j}^{n})\n",
    "+\\nu\\left(\\frac{\\Delta t}{\\Delta x^2}(u_{i+1,j}^{n}-2u_{i,j}^{n}+u_{i-1,j}^{n})\\right.\n",
    "+\\left.\\frac{\\Delta t}{\\Delta y^2}(u_{i,j+1}^{n}-2u_{i,j}^{n}+u_{i,j-1}^{n})\\right)\n",
    "$$\n",
    "\n",
    "The momentum equation in the $v$ direction:\n",
    "\n",
    "$$v_{i,j}^{n+1} = v_{i,j}^{n}-u_{i,j}^{n}\\frac{\\Delta t}{\\Delta x}(v_{i,j}^{n}-v_{i-1,j}^{n})\n",
    "- v_{i,j}^{n}\\frac{\\Delta t}{\\Delta y}(v_{i,j}^{n}-v_{i,j-1}^{n})$$\n",
    "$$\n",
    "-\\frac{\\Delta t}{\\rho 2\\Delta y}(p_{i,j+1}^{n}-p_{i,j-1}^{n})\n",
    "+\\nu\\left(\\frac{\\Delta t}{\\Delta x^2}(v_{i+1,j}^{n}-2v_{i,j}^{n}+v_{i-1,j}^{n})\\right.\n",
    "+\\left.\\frac{\\Delta t}{\\Delta y^2}(v_{i,j+1}^{n}-2v_{i,j}^{n}+v_{i,j-1}^{n})\\right)$$"
   ]
  },
  {
   "cell_type": "code",
   "execution_count": null,
   "metadata": {
    "collapsed": true
   },
   "outputs": [],
   "source": [
    "def cavity_flow(nt, u, v, dt, dx, dy, p, rho, nu):\n",
    "    un = numpy.empty_like(u)\n",
    "    vn = numpy.empty_like(v)\n",
    "    ny, nx = u.shape\n",
    "    b = numpy.zeros((ny, nx))\n",
    "\n",
    "    for n in range(nt):\n",
    "        un = u.copy()\n",
    "        vn = v.copy()\n",
    "\n",
    "        b = bracket_term_ppe(b, rho, dt, u, v, dx, dy)\n",
    "        p = pressure_poisson(p, dx, dy, b, 1e-3)\n",
    "\n",
    "        u[1:-1,1:-1] = (un[1:-1, 1:-1] -\n",
    "                        un[1:-1,1:-1] * dt / dx *\n",
    "                        (un[1:-1, 1:-1] - un[1:-1, 0:-2]) -\n",
    "                        vn[1:-1, 1:-1 ] * dt / dy *\n",
    "                        (un[1:-1, 1:-1] - un[0:-2, 1:-1]) -\n",
    "                        dt / (2 * rho * dx) *\n",
    "                        (p[1:-1, 2:] - p[1:-1, 0:-2]) +\n",
    "                        nu * dt *\n",
    "                        (1 / dx**2 *\n",
    "                         (un[1:-1, 2:] - 2 * un[1:-1, 1:-1] + un[1:-1, 0:-2]) +\n",
    "                        1 / dy**2 *\n",
    "                         (un[2:, 1:-1] - 2 * un[1:-1, 1:-1] + un[0:-2, 1:-1])))\n",
    "\n",
    "        v[1:-1,1:-1] = (vn[1:-1, 1:-1] -\n",
    "                        un[1:-1, 1:-1] * dt / dx *\n",
    "                        (vn[1:-1, 1:-1] - vn[1:-1, 0:-2]) -\n",
    "                        vn[1:-1, 1:-1] * dt / dy *\n",
    "                        (vn[1:-1, 1:-1] - vn[0:-2, 1:-1]) -\n",
    "                        dt / (2 * rho * dy) *\n",
    "                        (p[2:, 1:-1] - p[0:-2, 1:-1]) +\n",
    "                        nu * dt *\n",
    "                        (1 / dx**2 *\n",
    "                         (vn[1:-1, 2:] - 2 * vn[1:-1, 1:-1] + vn[1:-1, 0:-2]) +\n",
    "                        1 / dy**2 *\n",
    "                         (vn[2:, 1:-1] - 2 * vn[1:-1, 1:-1] +vn[0:-2, 1:-1])))\n",
    "\n",
    "        u[:, 0] = 0\n",
    "        u[:, -1] = 0\n",
    "        v[:, 0] = 0\n",
    "        v[:, -1] = 0\n",
    "        \n",
    "        u[0, :] = 0\n",
    "        u[-1, :] = 1    #set velocity on cavity lid equal to 1\n",
    "        v[0, :] = 0\n",
    "        v[-1, :]=0\n",
    "        \n",
    "        \n",
    "        \n",
    "    return u, v, p"
   ]
  },
  {
   "cell_type": "code",
   "execution_count": null,
   "metadata": {
    "collapsed": true
   },
   "outputs": [],
   "source": [
    "import pickle"
   ]
  },
  {
   "cell_type": "code",
   "execution_count": null,
   "metadata": {
    "collapsed": true
   },
   "outputs": [],
   "source": [
    "# nx = 41\n",
    "# ny = 41\n",
    "# u = numpy.zeros((ny, nx))\n",
    "# v = numpy.zeros((ny, nx))\n",
    "# p = numpy.random.random((ny, nx))\n",
    "# b = numpy.zeros((ny, nx))"
   ]
  },
  {
   "cell_type": "code",
   "execution_count": null,
   "metadata": {
    "collapsed": true
   },
   "outputs": [],
   "source": [
    "# with open('IC.pickle', 'wb') as f:\n",
    "#     pickle.dump((u, v, p, b), f)"
   ]
  },
  {
   "cell_type": "code",
   "execution_count": null,
   "metadata": {
    "collapsed": true
   },
   "outputs": [],
   "source": [
    "def run_cavity():\n",
    "    nx = 41\n",
    "    ny = 41\n",
    "    with open('IC.pickle', 'rb') as f:\n",
    "        u, v, p, b = pickle.load(f)\n",
    "\n",
    "    dx = 2 / (nx - 1)\n",
    "    dy = 2 / (ny - 1)\n",
    "    rho = 1\n",
    "    nu = 0.1\n",
    "    dt = .005\n",
    "\n",
    "    nt = 500\n",
    "    u, v, p = cavity_flow(nt, u, v, dt, dx, dy, p, rho, nu)\n",
    "    return u, v, p"
   ]
  },
  {
   "cell_type": "code",
   "execution_count": null,
   "metadata": {
    "collapsed": false,
    "scrolled": true
   },
   "outputs": [],
   "source": [
    "u, v, p = run_cavity()"
   ]
  },
  {
   "cell_type": "code",
   "execution_count": null,
   "metadata": {
    "collapsed": true
   },
   "outputs": [],
   "source": [
    "from matplotlib import pyplot, cm\n",
    "%matplotlib inline"
   ]
  },
  {
   "cell_type": "code",
   "execution_count": null,
   "metadata": {
    "collapsed": false
   },
   "outputs": [],
   "source": [
    "nx = 41\n",
    "ny = 41\n",
    "x = numpy.linspace(0, 2, nx)\n",
    "y = numpy.linspace(0, 2, ny)\n",
    "X, Y = numpy.meshgrid(x, y)"
   ]
  },
  {
   "cell_type": "code",
   "execution_count": null,
   "metadata": {
    "collapsed": false
   },
   "outputs": [],
   "source": [
    "quiver_skip = qs = 4\n",
    "pyplot.figure(figsize=(11, 7), dpi=100)\n",
    "pyplot.contourf(X, Y, p, alpha=0.5, cmap=cm.viridis)\n",
    "pyplot.colorbar()\n",
    "pyplot.contour(X, Y, p)\n",
    "pyplot.quiver(X[::qs, ::qs], Y[::qs, ::qs], u[::qs, ::qs], v[::qs, ::qs])"
   ]
  },
  {
   "cell_type": "code",
   "execution_count": null,
   "metadata": {
    "collapsed": true
   },
   "outputs": [],
   "source": [
    "with open('numpy_ans.pickle', 'wb') as f:\n",
    "    pickle.dump((u, v, p), f)"
   ]
  },
  {
   "cell_type": "code",
   "execution_count": null,
   "metadata": {
    "collapsed": false
   },
   "outputs": [],
   "source": [
    "%%timeit\n",
    "run_cavity()"
   ]
  },
  {
   "cell_type": "code",
   "execution_count": null,
   "metadata": {
    "collapsed": true
   },
   "outputs": [],
   "source": []
  },
  {
   "cell_type": "code",
   "execution_count": null,
   "metadata": {
    "collapsed": false
   },
   "outputs": [],
   "source": [
    "%load_ext line_profiler"
   ]
  },
  {
   "cell_type": "code",
   "execution_count": null,
   "metadata": {
    "collapsed": false
   },
   "outputs": [],
   "source": [
    "%lprun -f cavity_flow run_cavity()"
   ]
  }
 ],
 "metadata": {
  "kernelspec": {
   "display_name": "Python 3",
   "language": "python",
   "name": "python3"
  },
  "language_info": {
   "codemirror_mode": {
    "name": "ipython",
    "version": 3
   },
   "file_extension": ".py",
   "mimetype": "text/x-python",
   "name": "python",
   "nbconvert_exporter": "python",
   "pygments_lexer": "ipython3",
   "version": "3.5.1"
  }
 },
 "nbformat": 4,
 "nbformat_minor": 0
}
