{
 "cells": [
  {
   "cell_type": "code",
   "execution_count": 1,
   "metadata": {
    "collapsed": true
   },
   "outputs": [],
   "source": [
    "import numpy\n",
    "from numba import jit"
   ]
  },
  {
   "cell_type": "markdown",
   "metadata": {},
   "source": [
    "$$\n",
    "p_{i,j}^{n}=\\frac{(p_{i+1,j}^{n}+p_{i-1,j}^{n})\\Delta y^2+(p_{i,j+1}^{n}+p_{i,j-1}^{n})\\Delta x^2}{2(\\Delta x^2+\\Delta y^2)}-\\frac{\\rho\\Delta x^2\\Delta y^2}{2(\\Delta x^2+\\Delta y^2)} \\times$$\n",
    "\n",
    "$$\\left[\\frac{1}{\\Delta t}\\left(\\frac{u_{i+1,j}-u_{i-1,j}}{2\\Delta x}+\\frac{v_{i,j+1}-v_{i,j-1}}{2\\Delta y}\\right)-\\frac{u_{i+1,j}-u_{i-1,j}}{2\\Delta x}\\frac{u_{i+1,j}-u_{i-1,j}}{2\\Delta x}\\right. $$\n",
    "\n",
    "$$ -2\\frac{u_{i,j+1}-u_{i,j-1}}{2\\Delta y}\\frac{v_{i+1,j}-v_{i-1,j}}{2\\Delta x}-\\left.\\frac{v_{i,j+1}-v_{i,j-1}}{2\\Delta y}\\frac{v_{i,j+1}-v_{i,j-1}}{2\\Delta y}\\right]$$"
   ]
  },
  {
   "cell_type": "code",
   "execution_count": 2,
   "metadata": {
    "collapsed": true
   },
   "outputs": [],
   "source": [
    "def bracket_term_ppe(b, rho, dt, u, v, dx, dy):\n",
    "    b[1:-1, 1:-1] = (\n",
    "        rho * (1 / dt * ((u[1:-1, 2:] - u[1:-1, 0:-2]) / (2 * dx) +\n",
    "                         (v[2:, 1:-1] - v[0:-2, 1:-1]) / (2 * dy)) -\n",
    "                        ((u[1:-1, 2:] - u[1:-1, 0:-2]) / (2 * dx))**2 -\n",
    "                    2 * ((u[2:, 1:-1] - u[0:-2, 1:-1]) / (2 * dy) *\n",
    "                         (v[1:-1, 2:] - v[1:-1, 0:-2]) / (2 * dx)) -\n",
    "                        ((v[2:, 1:-1] - v[0:-2, 1:-1]) / (2 * dy))**2)\n",
    "                    )\n",
    "\n",
    "    return b\n"
   ]
  },
  {
   "cell_type": "code",
   "execution_count": 3,
   "metadata": {
    "collapsed": false
   },
   "outputs": [
    {
     "data": {
      "text/plain": [
       "array([[  2.61829124e-01,   1.24768878e-01,   2.95643247e-01,\n",
       "          7.74016630e-01,   8.63546753e-01],\n",
       "       [  3.89853234e-01,   2.05084681e+01,   1.67233237e+01,\n",
       "         -3.28168529e+01,   8.90005754e-01],\n",
       "       [  7.96892709e-01,   1.80912561e+01,   1.28629818e+01,\n",
       "         -2.08154669e+01,   8.60728285e-01],\n",
       "       [  1.02153879e-01,  -5.68507597e+00,  -2.27130029e+01,\n",
       "          1.06514116e+01,   2.37674517e-01],\n",
       "       [  8.05234168e-01,   8.89786208e-01,   5.13485332e-01,\n",
       "          6.09731476e-01,   2.74151471e-02]])"
      ]
     },
     "execution_count": 3,
     "metadata": {},
     "output_type": "execute_result"
    }
   ],
   "source": [
    "b = numpy.random.random((5, 5))\n",
    "u = numpy.random.random((5, 5))\n",
    "v = numpy.zeros((5, 5))\n",
    "dx = 0.1\n",
    "dy = 0.1\n",
    "dt = 0.1\n",
    "rho = 1.\n",
    "bracket_term_ppe(b, rho, dt, u, v, dx, dy)"
   ]
  },
  {
   "cell_type": "code",
   "execution_count": 4,
   "metadata": {
    "collapsed": false,
    "scrolled": true
   },
   "outputs": [
    {
     "name": "stdout",
     "output_type": "stream",
     "text": [
      "100 loops, best of 3: 13.3 ms per loop\n"
     ]
    }
   ],
   "source": [
    "%%timeit\n",
    "b = numpy.random.random((500,500))\n",
    "u = numpy.random.random((500,500))\n",
    "v = numpy.zeros((500,500))\n",
    "dx = 0.1\n",
    "dy = 0.1\n",
    "dt = 0.1\n",
    "rho = 1.\n",
    "bracket_term_ppe(b, rho, dt, u, v, dx, dy)"
   ]
  },
  {
   "cell_type": "code",
   "execution_count": 5,
   "metadata": {
    "collapsed": true
   },
   "outputs": [],
   "source": [
    "bracket_term_ppe_jit = jit(bracket_term_ppe)"
   ]
  },
  {
   "cell_type": "code",
   "execution_count": 9,
   "metadata": {
    "collapsed": false
   },
   "outputs": [
    {
     "name": "stdout",
     "output_type": "stream",
     "text": [
      "100 loops, best of 3: 13.5 ms per loop\n"
     ]
    }
   ],
   "source": [
    "%%timeit\n",
    "b = numpy.random.random((500,500))\n",
    "u = numpy.random.random((500,500))\n",
    "v = numpy.zeros((500,500))\n",
    "dx = 0.1\n",
    "dy = 0.1\n",
    "dt = 0.1\n",
    "rho = 1.\n",
    "bracket_term_ppe_jit(b, rho, dt, u, v, dx, dy)"
   ]
  },
  {
   "cell_type": "markdown",
   "metadata": {},
   "source": [
    "$$\n",
    "p_{i,j}^{n}=\\frac{(p_{i+1,j}^{n}+p_{i-1,j}^{n})\\Delta y^2+(p_{i,j+1}^{n}+p_{i,j-1}^{n})\\Delta x^2}{2(\\Delta x^2+\\Delta y^2)}-\\frac{\\rho\\Delta x^2\\Delta y^2}{2(\\Delta x^2+\\Delta y^2)} \\times$$\n",
    "\n",
    "$$\\left[\\frac{1}{\\Delta t}\\left(\\frac{u_{i+1,j}-u_{i-1,j}}{2\\Delta x}+\\frac{v_{i,j+1}-v_{i,j-1}}{2\\Delta y}\\right)-\\frac{u_{i+1,j}-u_{i-1,j}}{2\\Delta x}\\frac{u_{i+1,j}-u_{i-1,j}}{2\\Delta x}\\right. $$\n",
    "\n",
    "$$ -2\\frac{u_{i,j+1}-u_{i,j-1}}{2\\Delta y}\\frac{v_{i+1,j}-v_{i-1,j}}{2\\Delta x}-\\left.\\frac{v_{i,j+1}-v_{i,j-1}}{2\\Delta y}\\frac{v_{i,j+1}-v_{i,j-1}}{2\\Delta y}\\right]$$"
   ]
  },
  {
   "cell_type": "code",
   "execution_count": 6,
   "metadata": {
    "collapsed": true
   },
   "outputs": [],
   "source": [
    "@jit(nopython=True)\n",
    "def pressure_poisson(p, dx, dy, b, omega, l2_target=1e-6):\n",
    "    #pn = numpy.empty_like(p)\n",
    "    pn = p.copy()\n",
    "    J, I = b.shape\n",
    "    \n",
    "    n = 0\n",
    "    \n",
    "    iter_diff = l2_target + 1\n",
    "    \n",
    "    while iter_diff > l2_target:\n",
    "        pn = p.copy()\n",
    "        for j in range(1, J - 1):\n",
    "            for i in range(1, I - 1):\n",
    "                p[j, i] = (((1 - omega) * pn[j, i] + \n",
    "                           omega * (((pn[j, i + 1] + p[j, i - 1]) * dy**2 + \n",
    "                        (pn[j + 1, i] + p[j - 1, i]) * dx**2) /\n",
    "                        (2 * (dx**2 + dy**2)))) -\n",
    "                        dx**2 * dy**2 / (2 * (dx**2 + dy**2)) *\n",
    "                        b[j, i])\n",
    "\n",
    "        for j in range(J):\n",
    "            p[j, 0] = p[j, 1]\n",
    "            p[j, -1] = p[j, -2]\n",
    "            \n",
    "        for i in range(I):\n",
    "            p[0, i] = p[1, i]\n",
    "            p[-1, i] = 0\n",
    "            \n",
    "        \n",
    "        iter_diff = numpy.sqrt(numpy.sum((p - pn)**2)/numpy.sum(pn**2))\n",
    "        n += 1\n",
    "        \n",
    "        if n == 500:\n",
    "            break\n",
    "\n",
    "        \n",
    "    return p"
   ]
  },
  {
   "cell_type": "code",
   "execution_count": 7,
   "metadata": {
    "collapsed": false
   },
   "outputs": [
    {
     "data": {
      "text/plain": [
       "(5, 5)"
      ]
     },
     "execution_count": 7,
     "metadata": {},
     "output_type": "execute_result"
    }
   ],
   "source": [
    "b.shape"
   ]
  },
  {
   "cell_type": "code",
   "execution_count": 8,
   "metadata": {
    "collapsed": true
   },
   "outputs": [],
   "source": [
    "b = bracket_term_ppe(b, rho, dt, u, v, dx, dy)"
   ]
  },
  {
   "cell_type": "code",
   "execution_count": 9,
   "metadata": {
    "collapsed": true
   },
   "outputs": [],
   "source": [
    "p = numpy.random.random((5,5))"
   ]
  },
  {
   "cell_type": "code",
   "execution_count": 10,
   "metadata": {
    "collapsed": false
   },
   "outputs": [
    {
     "data": {
      "text/plain": [
       "array([[-0.15565144, -0.15565144, -0.06411582,  0.11459782,  0.11459782],\n",
       "       [-0.15565144, -0.15565144, -0.06411582,  0.11459782,  0.11459782],\n",
       "       [-0.11046421, -0.11046421, -0.03980514,  0.07453229,  0.07453229],\n",
       "       [-0.01532777, -0.01532777,  0.02658038,  0.01003442,  0.01003442],\n",
       "       [ 0.        ,  0.        ,  0.        ,  0.        ,  0.        ]])"
      ]
     },
     "execution_count": 10,
     "metadata": {},
     "output_type": "execute_result"
    }
   ],
   "source": [
    "pressure_poisson(p, dx, dy, b, 1.5)"
   ]
  },
  {
   "cell_type": "code",
   "execution_count": 11,
   "metadata": {
    "collapsed": false
   },
   "outputs": [],
   "source": [
    "# pressure_poisson.inspect_types()"
   ]
  },
  {
   "cell_type": "markdown",
   "metadata": {},
   "source": [
    "The momentum equation in the $u$ direction:\n",
    "\n",
    "$$\n",
    "u_{i,j}^{n+1} = u_{i,j}^{n} - u_{i,j}^{n}\\frac{\\Delta t}{\\Delta x}(u_{i,j}^{n}-u_{i-1,j}^{n})\n",
    "- v_{i,j}^{n}\\frac{\\Delta t}{\\Delta y}(u_{i,j}^{n}-u_{i,j-1}^{n})$$\n",
    "$$-\\frac{\\Delta t}{\\rho 2\\Delta x}(p_{i+1,j}^{n}-p_{i-1,j}^{n})\n",
    "+\\nu\\left(\\frac{\\Delta t}{\\Delta x^2}(u_{i+1,j}^{n}-2u_{i,j}^{n}+u_{i-1,j}^{n})\\right.\n",
    "+\\left.\\frac{\\Delta t}{\\Delta y^2}(u_{i,j+1}^{n}-2u_{i,j}^{n}+u_{i,j-1}^{n})\\right)\n",
    "$$\n",
    "\n",
    "The momentum equation in the $v$ direction:\n",
    "\n",
    "$$v_{i,j}^{n+1} = v_{i,j}^{n}-u_{i,j}^{n}\\frac{\\Delta t}{\\Delta x}(v_{i,j}^{n}-v_{i-1,j}^{n})\n",
    "- v_{i,j}^{n}\\frac{\\Delta t}{\\Delta y}(v_{i,j}^{n}-v_{i,j-1}^{n})$$\n",
    "$$\n",
    "-\\frac{\\Delta t}{\\rho 2\\Delta y}(p_{i,j+1}^{n}-p_{i,j-1}^{n})\n",
    "+\\nu\\left(\\frac{\\Delta t}{\\Delta x^2}(v_{i+1,j}^{n}-2v_{i,j}^{n}+v_{i-1,j}^{n})\\right.\n",
    "+\\left.\\frac{\\Delta t}{\\Delta y^2}(v_{i,j+1}^{n}-2v_{i,j}^{n}+v_{i,j-1}^{n})\\right)$$"
   ]
  },
  {
   "cell_type": "code",
   "execution_count": 12,
   "metadata": {
    "collapsed": true
   },
   "outputs": [],
   "source": [
    "@jit(nopython=True)\n",
    "def mycopy(u, un):\n",
    "    J, I = u.shape\n",
    "    for j in range(J):\n",
    "        for i in range(I):\n",
    "            un[j, i] = u[j, i]\n",
    "            \n",
    "    return un"
   ]
  },
  {
   "cell_type": "code",
   "execution_count": 13,
   "metadata": {
    "code_folding": [],
    "collapsed": false
   },
   "outputs": [],
   "source": [
    "@jit(nopython = True)\n",
    "def cavity_flow(nt, u, v, dt, dx, dy, p, rho, nu, omega=1.5):\n",
    "    un = numpy.empty_like(u)\n",
    "    vn = numpy.empty_like(v)\n",
    "    b = numpy.zeros((ny, nx))\n",
    "    \n",
    "    J, I = p.shape\n",
    "\n",
    "    for n in range(nt):\n",
    "        un = u.copy()\n",
    "        vn = v.copy()\n",
    "        \n",
    "        b = bracket_term_ppe_jit(b, rho, dt, u, v, dx, dy)\n",
    "        p = pressure_poisson(p, dx, dy, b, omega)\n",
    "        \n",
    "        for j in range(1, J - 1):\n",
    "            for i in range(1, I - 1):\n",
    "                u[j, i] = (un[j, i] -\n",
    "                                un[j, i] * dt / dx *\n",
    "                                (un[j, i] - un[j, i - 1]) -\n",
    "                                vn[j, i] * dt / dy *\n",
    "                                (un[j, i] - un[j - 1, i]) -\n",
    "                                dt / (2 * rho * dx) *\n",
    "                                (p[j, i + 1] - p[j, i - 1]) +\n",
    "                                nu * dt *\n",
    "                                (1 / dx**2 *\n",
    "                                 (un[j, i + 1] - 2 * un[j, i] + un[j, i - 1]) +\n",
    "                                1 / dy**2 *\n",
    "                                 (un[j + 1, i] - 2 * un[j, i] + un[j - 1, i])))\n",
    "\n",
    "                v[j, i] = (vn[j, i] -\n",
    "                                un[j, i] * dt / dx *\n",
    "                                (vn[j, i] - vn[j, i - 1]) -\n",
    "                                vn[j, i] * dt / dy *\n",
    "                                (vn[j, i] - vn[j - 1, i]) -\n",
    "                                dt / (2 * rho * dy) *\n",
    "                                (p[j + 1, i] - p[j - 1, i]) +\n",
    "                                nu * dt *\n",
    "                                (1 / dx**2 *\n",
    "                                 (vn[j, i + 1] - 2 * vn[j, i] + vn[j, i - 1]) +\n",
    "                                1 / dy**2 *\n",
    "                                 (vn[j + 1, i] - 2 * vn[j, i] +vn[j - 1, i])))\n",
    "                \n",
    "        \n",
    "\n",
    "        for j in range(J):\n",
    "            u[j, 0] = 0\n",
    "            u[j, -1] = 0\n",
    "            v[j, 0] = 0\n",
    "            v[j, -1] = 0\n",
    "            \n",
    "        for i in range(I):\n",
    "            u[-1, i] = 1    #set velocity on cavity lid equal to 1\n",
    "            v[0, i] = 0\n",
    "            v[-1, i]=0\n",
    "            u[0, i] = 0\n",
    "            \n",
    "\n",
    "\n",
    "    return u, v, p"
   ]
  },
  {
   "cell_type": "code",
   "execution_count": 14,
   "metadata": {
    "collapsed": false
   },
   "outputs": [],
   "source": [
    "\n",
    "nx = ny = 101\n",
    "u = numpy.zeros((ny, nx))\n",
    "v = numpy.zeros((ny, nx))\n",
    "p = numpy.random.random((ny, nx))\n",
    "b = numpy.zeros((ny, nx))\n",
    "\n",
    "dx = 2 / (nx - 1)\n",
    "dy = 2 / (ny - 1)\n",
    "rho = 1\n",
    "nu = 0.1\n",
    "dt = .0005\n",
    "\n",
    "nt = 100\n",
    "u, v, p = cavity_flow(nt, u, v, dt, dx, dy, p, rho, nu, 1.9)"
   ]
  },
  {
   "cell_type": "code",
   "execution_count": 15,
   "metadata": {
    "collapsed": true
   },
   "outputs": [],
   "source": [
    "from matplotlib import pyplot, cm\n",
    "%matplotlib inline"
   ]
  },
  {
   "cell_type": "code",
   "execution_count": 16,
   "metadata": {
    "collapsed": true
   },
   "outputs": [],
   "source": [
    "x = numpy.linspace(0, 2, nx)\n",
    "y = numpy.linspace(0, 2, ny)\n",
    "X, Y = numpy.meshgrid(x, y)"
   ]
  },
  {
   "cell_type": "code",
   "execution_count": 17,
   "metadata": {
    "collapsed": false
   },
   "outputs": [
    {
     "data": {
      "text/plain": [
       "<matplotlib.quiver.Quiver at 0x7fdf0aa45ba8>"
      ]
     },
     "execution_count": 17,
     "metadata": {},
     "output_type": "execute_result"
    },
    {
     "data": {
      "image/png": "[encoded data removed]",
      "text/plain": [
       "<matplotlib.figure.Figure at 0x7fdf0ce92a58>"
      ]
     },
     "metadata": {},
     "output_type": "display_data"
    }
   ],
   "source": [
    "quiver_skip = qs = 4\n",
    "pyplot.figure(figsize=(11, 7), dpi=100)\n",
    "pyplot.contourf(X, Y, p, alpha=0.5, cmap=cm.viridis)\n",
    "pyplot.colorbar()\n",
    "pyplot.contour(X, Y, p)\n",
    "pyplot.quiver(X[::qs, ::qs], Y[::qs, ::qs], u[::qs, ::qs], v[::qs, ::qs])"
   ]
  },
  {
   "cell_type": "code",
   "execution_count": 18,
   "metadata": {
    "collapsed": false
   },
   "outputs": [
    {
     "data": {
      "text/plain": [
       "array([[-0.06355721, -0.06355721, -0.06362773, ...,  0.07173164,\n",
       "         0.07166126,  0.07166126],\n",
       "       [-0.06355721, -0.06355721, -0.06362773, ...,  0.07173164,\n",
       "         0.07166126,  0.07166126],\n",
       "       [-0.06348715, -0.06348715, -0.06355778, ...,  0.07166166,\n",
       "         0.07159115,  0.07159115],\n",
       "       ..., \n",
       "       [-3.26853445, -3.26853445, -2.56453842, ...,  2.61756206,\n",
       "         3.34939377,  3.34939377],\n",
       "       [-3.74371068, -3.74371068, -2.68642057, ...,  2.71799795,\n",
       "         3.81301176,  3.81301176],\n",
       "       [ 0.        ,  0.        ,  0.        , ...,  0.        ,\n",
       "         0.        ,  0.        ]])"
      ]
     },
     "execution_count": 18,
     "metadata": {},
     "output_type": "execute_result"
    }
   ],
   "source": [
    "p"
   ]
  },
  {
   "cell_type": "code",
   "execution_count": 19,
   "metadata": {
    "collapsed": true
   },
   "outputs": [],
   "source": [
    "def run_cavity():\n",
    "    nx = ny = 101\n",
    "    u = numpy.zeros((ny, nx))\n",
    "    v = numpy.zeros((ny, nx))\n",
    "    p = numpy.random.random((ny, nx))\n",
    "    b = numpy.zeros((ny, nx))\n",
    "\n",
    "    dx = 2 / (nx - 1)\n",
    "    dy = 2 / (ny - 1)\n",
    "    rho = 1\n",
    "    nu = 0.1\n",
    "    dt = .0001\n",
    "\n",
    "    nt = 100\n",
    "    u, v, p = cavity_flow(nt, u, v, dt, dx, dy, p, rho, nu)"
   ]
  },
  {
   "cell_type": "code",
   "execution_count": 16,
   "metadata": {
    "collapsed": false
   },
   "outputs": [],
   "source": [
    "%load_ext line_profiler"
   ]
  },
  {
   "cell_type": "code",
   "execution_count": 22,
   "metadata": {
    "collapsed": false
   },
   "outputs": [],
   "source": [
    "%lprun -f cavity_flow run_cavity()"
   ]
  },
  {
   "cell_type": "code",
   "execution_count": 20,
   "metadata": {
    "collapsed": false
   },
   "outputs": [
    {
     "name": "stdout",
     "output_type": "stream",
     "text": [
      "1 loop, best of 3: 11 s per loop\n"
     ]
    }
   ],
   "source": [
    "%timeit run_cavity()"
   ]
  },
  {
   "cell_type": "code",
   "execution_count": 22,
   "metadata": {
    "collapsed": true
   },
   "outputs": [],
   "source": [
    "@jit(nopython=True)\n",
    "def bracket_term_ppe_jit(b, rho, dt, u, v, dx, dy):\n",
    "    J, I = b.shape\n",
    "    for j in range(1, J - 1):\n",
    "        for i in range(1, I - 1):\n",
    "            b[j, i] = (\n",
    "                rho * (1 / dt * ((u[j, i + 1] - u[j, i - 1]) / (2 * dx) +\n",
    "                                 (v[j + 1, i] - v[j - 1, i]) / (2 * dy)) -\n",
    "                                ((u[j, i + 1] - u[j, i - 1]) / (2 * dx))**2 -\n",
    "                            2 * ((u[j + 1, i] - u[j - 1, i]) / (2 * dy) *\n",
    "                                 (v[j, i + 1] - v[j, i - 1]) / (2 * dx)) -\n",
    "                                ((v[j + 1, i] - v[j - 1, i]) / (2 * dy))**2)\n",
    "                            )\n",
    "\n",
    "    return b\n"
   ]
  },
  {
   "cell_type": "code",
   "execution_count": 15,
   "metadata": {
    "collapsed": false
   },
   "outputs": [
    {
     "name": "stdout",
     "output_type": "stream",
     "text": [
      "1 loop, best of 3: 3.74 s per loop\n"
     ]
    }
   ],
   "source": [
    "%timeit run_cavity()"
   ]
  },
  {
   "cell_type": "code",
   "execution_count": null,
   "metadata": {
    "collapsed": true
   },
   "outputs": [],
   "source": []
  }
 ],
 "metadata": {
  "kernelspec": {
   "display_name": "Python 3",
   "language": "python",
   "name": "python3"
  },
  "language_info": {
   "codemirror_mode": {
    "name": "ipython",
    "version": 3
   },
   "file_extension": ".py",
   "mimetype": "text/x-python",
   "name": "python",
   "nbconvert_exporter": "python",
   "pygments_lexer": "ipython3",
   "version": "3.5.1"
  }
 },
 "nbformat": 4,
 "nbformat_minor": 0
}
