{
 "cells": [
  {
   "cell_type": "code",
   "execution_count": 1,
   "metadata": {
    "collapsed": true
   },
   "outputs": [],
   "source": [
    "import numpy\n",
    "from numba import jit"
   ]
  },
  {
   "cell_type": "markdown",
   "metadata": {},
   "source": [
    "$$\n",
    "p_{i,j}^{n}=\\frac{(p_{i+1,j}^{n}+p_{i-1,j}^{n})\\Delta y^2+(p_{i,j+1}^{n}+p_{i,j-1}^{n})\\Delta x^2}{2(\\Delta x^2+\\Delta y^2)}-\\frac{\\rho\\Delta x^2\\Delta y^2}{2(\\Delta x^2+\\Delta y^2)} \\times$$\n",
    "\n",
    "$$\\left[\\frac{1}{\\Delta t}\\left(\\frac{u_{i+1,j}-u_{i-1,j}}{2\\Delta x}+\\frac{v_{i,j+1}-v_{i,j-1}}{2\\Delta y}\\right)-\\frac{u_{i+1,j}-u_{i-1,j}}{2\\Delta x}\\frac{u_{i+1,j}-u_{i-1,j}}{2\\Delta x}\\right. $$\n",
    "\n",
    "$$ -2\\frac{u_{i,j+1}-u_{i,j-1}}{2\\Delta y}\\frac{v_{i+1,j}-v_{i-1,j}}{2\\Delta x}-\\left.\\frac{v_{i,j+1}-v_{i,j-1}}{2\\Delta y}\\frac{v_{i,j+1}-v_{i,j-1}}{2\\Delta y}\\right]$$"
   ]
  },
  {
   "cell_type": "code",
   "execution_count": 2,
   "metadata": {
    "collapsed": true
   },
   "outputs": [],
   "source": [
    "def bracket_term_ppe(b, rho, dt, u, v, dx, dy):\n",
    "    b[1:-1, 1:-1] = (\n",
    "        rho * (1 / dt * ((u[1:-1, 2:] - u[1:-1, 0:-2]) / (2 * dx) +\n",
    "                         (v[2:, 1:-1] - v[0:-2, 1:-1]) / (2 * dy)) -\n",
    "                        ((u[1:-1, 2:] - u[1:-1, 0:-2]) / (2 * dx))**2 -\n",
    "                    2 * ((u[2:, 1:-1] - u[0:-2, 1:-1]) / (2 * dy) *\n",
    "                         (v[1:-1, 2:] - v[1:-1, 0:-2]) / (2 * dx)) -\n",
    "                        ((v[2:, 1:-1] - v[0:-2, 1:-1]) / (2 * dy))**2)\n",
    "                    )\n",
    "\n",
    "    return b\n"
   ]
  },
  {
   "cell_type": "code",
   "execution_count": 3,
   "metadata": {
    "collapsed": false
   },
   "outputs": [
    {
     "data": {
      "text/plain": [
       "array([[  2.86234459e-02,   9.58968972e-01,   5.90907402e-01,\n",
       "          6.93199460e-01,   8.15759473e-01],\n",
       "       [  6.54765194e-01,   1.47093383e+01,  -2.12485412e+01,\n",
       "          5.39449877e+00,   9.87153329e-01],\n",
       "       [  8.75612188e-01,   1.77948523e+01,   2.03476615e+01,\n",
       "         -1.70041981e+00,   8.11336710e-02],\n",
       "       [  3.80410810e-01,  -4.73109136e+00,  -6.05470101e+01,\n",
       "          1.04665270e+00,   8.44441369e-01],\n",
       "       [  7.89412104e-01,   1.58505478e-01,   5.58664990e-01,\n",
       "          8.07837385e-01,   2.24694435e-01]])"
      ]
     },
     "execution_count": 3,
     "metadata": {},
     "output_type": "execute_result"
    }
   ],
   "source": [
    "b = numpy.random.random((5, 5))\n",
    "u = numpy.random.random((5, 5))\n",
    "v = numpy.zeros((5, 5))\n",
    "dx = 0.1\n",
    "dy = 0.1\n",
    "dt = 0.1\n",
    "rho = 1.\n",
    "bracket_term_ppe(b, rho, dt, u, v, dx, dy)"
   ]
  },
  {
   "cell_type": "code",
   "execution_count": 6,
   "metadata": {
    "collapsed": false,
    "scrolled": true
   },
   "outputs": [
    {
     "name": "stdout",
     "output_type": "stream",
     "text": [
      "100 loops, best of 3: 13.1 ms per loop\n"
     ]
    }
   ],
   "source": [
    "%%timeit\n",
    "b = numpy.random.random((500,500))\n",
    "u = numpy.random.random((500,500))\n",
    "v = numpy.zeros((500,500))\n",
    "dx = 0.1\n",
    "dy = 0.1\n",
    "dt = 0.1\n",
    "rho = 1.\n",
    "bracket_term_ppe(b, rho, dt, u, v, dx, dy)"
   ]
  },
  {
   "cell_type": "code",
   "execution_count": 4,
   "metadata": {
    "collapsed": true
   },
   "outputs": [],
   "source": [
    "bracket_term_ppe_jit = jit(bracket_term_ppe)"
   ]
  },
  {
   "cell_type": "code",
   "execution_count": 9,
   "metadata": {
    "collapsed": false
   },
   "outputs": [
    {
     "name": "stdout",
     "output_type": "stream",
     "text": [
      "100 loops, best of 3: 13.5 ms per loop\n"
     ]
    }
   ],
   "source": [
    "%%timeit\n",
    "b = numpy.random.random((500,500))\n",
    "u = numpy.random.random((500,500))\n",
    "v = numpy.zeros((500,500))\n",
    "dx = 0.1\n",
    "dy = 0.1\n",
    "dt = 0.1\n",
    "rho = 1.\n",
    "bracket_term_ppe_jit(b, rho, dt, u, v, dx, dy)"
   ]
  },
  {
   "cell_type": "markdown",
   "metadata": {},
   "source": [
    "$$\n",
    "p_{i,j}^{n}=\\frac{(p_{i+1,j}^{n}+p_{i-1,j}^{n})\\Delta y^2+(p_{i,j+1}^{n}+p_{i,j-1}^{n})\\Delta x^2}{2(\\Delta x^2+\\Delta y^2)}-\\frac{\\rho\\Delta x^2\\Delta y^2}{2(\\Delta x^2+\\Delta y^2)} \\times$$\n",
    "\n",
    "$$\\left[\\frac{1}{\\Delta t}\\left(\\frac{u_{i+1,j}-u_{i-1,j}}{2\\Delta x}+\\frac{v_{i,j+1}-v_{i,j-1}}{2\\Delta y}\\right)-\\frac{u_{i+1,j}-u_{i-1,j}}{2\\Delta x}\\frac{u_{i+1,j}-u_{i-1,j}}{2\\Delta x}\\right. $$\n",
    "\n",
    "$$ -2\\frac{u_{i,j+1}-u_{i,j-1}}{2\\Delta y}\\frac{v_{i+1,j}-v_{i-1,j}}{2\\Delta x}-\\left.\\frac{v_{i,j+1}-v_{i,j-1}}{2\\Delta y}\\frac{v_{i,j+1}-v_{i,j-1}}{2\\Delta y}\\right]$$"
   ]
  },
  {
   "cell_type": "code",
   "execution_count": 5,
   "metadata": {
    "collapsed": true
   },
   "outputs": [],
   "source": [
    "@jit(nopython=True)\n",
    "def pressure_poisson(p, dx, dy, b, l2_target=1e-6):\n",
    "    #pn = numpy.empty_like(p)\n",
    "    pn = p.copy()\n",
    "    J, I = b.shape\n",
    "    n = 0\n",
    "    \n",
    "    iter_diff = l2_target + 1\n",
    "    \n",
    "    while iter_diff > l2_target:\n",
    "        pn = p.copy()\n",
    "        for j in range(1, J - 1):\n",
    "            for i in range(1, I - 1):\n",
    "                p[j, i] = (((pn[j, i + 1] + pn[j, i - 1]) * dy**2 + \n",
    "                        (pn[j + 1, i] + pn[j - 1, i]) * dx**2) /\n",
    "                        (2 * (dx**2 + dy**2)) -\n",
    "                        dx**2 * dy**2 / (2 * (dx**2 + dy**2)) *\n",
    "                        b[j, i])\n",
    "\n",
    "        for j in range(J):\n",
    "            p[j, 0] = p[j, 1]\n",
    "            p[j, -1] = p[j, -2]\n",
    "            \n",
    "        for i in range(I):\n",
    "            p[0, i] = p[1, i]\n",
    "            p[-1, i] = 0\n",
    "            \n",
    "        iter_diff = numpy.sqrt(numpy.sum((p - pn)**2)/numpy.sum(pn**2))\n",
    "        n += 1\n",
    "        \n",
    "        if n == 500:\n",
    "            break\n",
    "#          p[:, -1] = p[:, -2] #dp/dy = 0 at x = 2\n",
    "#          p[0, :] = p[1, :] #dp/dy = 0 at y = 0\n",
    "#          p[:, 0] = p[:, 1] #dp/dx = 0 at x = 0\n",
    "#          p[-1, :] = 0 #p = 0 at y = 2\n",
    "        \n",
    "    return p"
   ]
  },
  {
   "cell_type": "code",
   "execution_count": 6,
   "metadata": {
    "collapsed": false
   },
   "outputs": [
    {
     "data": {
      "text/plain": [
       "(5, 5)"
      ]
     },
     "execution_count": 6,
     "metadata": {},
     "output_type": "execute_result"
    }
   ],
   "source": [
    "b.shape"
   ]
  },
  {
   "cell_type": "code",
   "execution_count": 7,
   "metadata": {
    "collapsed": true
   },
   "outputs": [],
   "source": [
    "b = bracket_term_ppe(b, rho, dt, u, v, dx, dy)"
   ]
  },
  {
   "cell_type": "code",
   "execution_count": 8,
   "metadata": {
    "collapsed": true
   },
   "outputs": [],
   "source": [
    "p = numpy.random.random((5,5))"
   ]
  },
  {
   "cell_type": "code",
   "execution_count": 9,
   "metadata": {
    "collapsed": false
   },
   "outputs": [
    {
     "data": {
      "text/plain": [
       "array([[-0.09374168, -0.09374168,  0.03743495,  0.00412508,  0.00412508],\n",
       "       [-0.09374168, -0.09374168,  0.03743495,  0.00412508,  0.00412508],\n",
       "       [-0.07782524, -0.07782524, -0.01056426,  0.02475989,  0.02475989],\n",
       "       [ 0.04877851,  0.04877851,  0.17684972,  0.06371441,  0.06371441],\n",
       "       [ 0.        ,  0.        ,  0.        ,  0.        ,  0.        ]])"
      ]
     },
     "execution_count": 9,
     "metadata": {},
     "output_type": "execute_result"
    }
   ],
   "source": [
    "pressure_poisson(p, dx, dy, b)"
   ]
  },
  {
   "cell_type": "code",
   "execution_count": 11,
   "metadata": {
    "collapsed": false
   },
   "outputs": [],
   "source": [
    "# pressure_poisson.inspect_types()"
   ]
  },
  {
   "cell_type": "markdown",
   "metadata": {},
   "source": [
    "The momentum equation in the $u$ direction:\n",
    "\n",
    "$$\n",
    "u_{i,j}^{n+1} = u_{i,j}^{n} - u_{i,j}^{n}\\frac{\\Delta t}{\\Delta x}(u_{i,j}^{n}-u_{i-1,j}^{n})\n",
    "- v_{i,j}^{n}\\frac{\\Delta t}{\\Delta y}(u_{i,j}^{n}-u_{i,j-1}^{n})$$\n",
    "$$-\\frac{\\Delta t}{\\rho 2\\Delta x}(p_{i+1,j}^{n}-p_{i-1,j}^{n})\n",
    "+\\nu\\left(\\frac{\\Delta t}{\\Delta x^2}(u_{i+1,j}^{n}-2u_{i,j}^{n}+u_{i-1,j}^{n})\\right.\n",
    "+\\left.\\frac{\\Delta t}{\\Delta y^2}(u_{i,j+1}^{n}-2u_{i,j}^{n}+u_{i,j-1}^{n})\\right)\n",
    "$$\n",
    "\n",
    "The momentum equation in the $v$ direction:\n",
    "\n",
    "$$v_{i,j}^{n+1} = v_{i,j}^{n}-u_{i,j}^{n}\\frac{\\Delta t}{\\Delta x}(v_{i,j}^{n}-v_{i-1,j}^{n})\n",
    "- v_{i,j}^{n}\\frac{\\Delta t}{\\Delta y}(v_{i,j}^{n}-v_{i,j-1}^{n})$$\n",
    "$$\n",
    "-\\frac{\\Delta t}{\\rho 2\\Delta y}(p_{i,j+1}^{n}-p_{i,j-1}^{n})\n",
    "+\\nu\\left(\\frac{\\Delta t}{\\Delta x^2}(v_{i+1,j}^{n}-2v_{i,j}^{n}+v_{i-1,j}^{n})\\right.\n",
    "+\\left.\\frac{\\Delta t}{\\Delta y^2}(v_{i,j+1}^{n}-2v_{i,j}^{n}+v_{i,j-1}^{n})\\right)$$"
   ]
  },
  {
   "cell_type": "code",
   "execution_count": 10,
   "metadata": {
    "collapsed": true
   },
   "outputs": [],
   "source": [
    "#don't both, this isn't any faster than numpy.copy (it's slower, in fact)\n",
    "# @jit(nopython=True)\n",
    "# def mycopy(u, un):\n",
    "#     J, I = u.shape\n",
    "#     for j in range(J):\n",
    "#         for i in range(I):\n",
    "#             un[j, i] = u[j, i]\n",
    "            \n",
    "#     return un"
   ]
  },
  {
   "cell_type": "code",
   "execution_count": 11,
   "metadata": {
    "code_folding": [],
    "collapsed": false
   },
   "outputs": [],
   "source": [
    "@jit(nopython = True)\n",
    "def cavity_flow(nt, u, v, dt, dx, dy, p, rho, nu):\n",
    "    un = numpy.empty_like(u)\n",
    "    vn = numpy.empty_like(v)\n",
    "    b = numpy.zeros((ny, nx))\n",
    "    \n",
    "    J, I = p.shape\n",
    "\n",
    "    for n in range(nt):\n",
    "        un = u.copy()\n",
    "        vn = v.copy()\n",
    "        \n",
    "        b = bracket_term_ppe_jit(b, rho, dt, u, v, dx, dy)\n",
    "        p = pressure_poisson(p, dx, dy, b)\n",
    "        \n",
    "        for j in range(1, J - 1):\n",
    "            for i in range(1, I - 1):\n",
    "                u[j, i] = (un[j, i] -\n",
    "                                un[j, i] * dt / dx *\n",
    "                                (un[j, i] - un[j, i - 1]) -\n",
    "                                vn[j, i] * dt / dy *\n",
    "                                (un[j, i] - un[j - 1, i]) -\n",
    "                                dt / (2 * rho * dx) *\n",
    "                                (p[j, i + 1] - p[j, i - 1]) +\n",
    "                                nu * dt *\n",
    "                                (1 / dx**2 *\n",
    "                                 (un[j, i + 1] - 2 * un[j, i] + un[j, i - 1]) +\n",
    "                                1 / dy**2 *\n",
    "                                 (un[j + 1, i] - 2 * un[j, i] + un[j - 1, i])))\n",
    "\n",
    "                v[j, i] = (vn[j, i] -\n",
    "                                un[j, i] * dt / dx *\n",
    "                                (vn[j, i] - vn[j, i - 1]) -\n",
    "                                vn[j, i] * dt / dy *\n",
    "                                (vn[j, i] - vn[j - 1, i]) -\n",
    "                                dt / (2 * rho * dy) *\n",
    "                                (p[j + 1, i] - p[j - 1, i]) +\n",
    "                                nu * dt *\n",
    "                                (1 / dx**2 *\n",
    "                                 (vn[j, i + 1] - 2 * vn[j, i] + vn[j, i - 1]) +\n",
    "                                1 / dy**2 *\n",
    "                                 (vn[j + 1, i] - 2 * vn[j, i] +vn[j - 1, i])))\n",
    "                \n",
    "        \n",
    "\n",
    "        for j in range(J):\n",
    "            u[j, 0] = 0\n",
    "            u[j, -1] = 0\n",
    "            v[j, 0] = 0\n",
    "            v[j, -1] = 0\n",
    "            \n",
    "        for i in range(I):\n",
    "            u[-1, i] = 1    #set velocity on cavity lid equal to 1\n",
    "            v[0, i] = 0\n",
    "            v[-1, i]=0\n",
    "            u[0, i] = 0\n",
    "            \n",
    "\n",
    "\n",
    "    return u, v, p"
   ]
  },
  {
   "cell_type": "code",
   "execution_count": 13,
   "metadata": {
    "collapsed": false
   },
   "outputs": [],
   "source": [
    "\n",
    "nx = ny = 101\n",
    "u = numpy.zeros((ny, nx))\n",
    "v = numpy.zeros((ny, nx))\n",
    "p = numpy.random.random((ny, nx))\n",
    "b = numpy.zeros((ny, nx))\n",
    "\n",
    "dx = 2 / (nx - 1)\n",
    "dy = 2 / (ny - 1)\n",
    "rho = 1\n",
    "nu = 0.1\n",
    "dt = .0005\n",
    "\n",
    "nt = 100\n",
    "u, v, p = cavity_flow(nt, u, v, dt, dx, dy, p, rho, nu)"
   ]
  },
  {
   "cell_type": "code",
   "execution_count": 14,
   "metadata": {
    "collapsed": true
   },
   "outputs": [],
   "source": [
    "from matplotlib import pyplot, cm\n",
    "%matplotlib inline"
   ]
  },
  {
   "cell_type": "code",
   "execution_count": 15,
   "metadata": {
    "collapsed": true
   },
   "outputs": [],
   "source": [
    "x = numpy.linspace(0, 2, nx)\n",
    "y = numpy.linspace(0, 2, ny)\n",
    "X, Y = numpy.meshgrid(x, y)"
   ]
  },
  {
   "cell_type": "code",
   "execution_count": 16,
   "metadata": {
    "collapsed": false
   },
   "outputs": [
    {
     "data": {
      "text/plain": [
       "<matplotlib.quiver.Quiver at 0x7fba37070dd8>"
      ]
     },
     "execution_count": 16,
     "metadata": {},
     "output_type": "execute_result"
    },
    {
     "data": {
      "image/png": "[encoded data removed]",
      "text/plain": [
       "<matplotlib.figure.Figure at 0x7fba39456550>"
      ]
     },
     "metadata": {},
     "output_type": "display_data"
    }
   ],
   "source": [
    "quiver_skip = qs = 4\n",
    "pyplot.figure(figsize=(11, 7), dpi=100)\n",
    "pyplot.contourf(X, Y, p, alpha=0.5, cmap=cm.viridis)\n",
    "pyplot.colorbar()\n",
    "pyplot.contour(X, Y, p)\n",
    "pyplot.quiver(X[::qs, ::qs], Y[::qs, ::qs], u[::qs, ::qs], v[::qs, ::qs])"
   ]
  },
  {
   "cell_type": "code",
   "execution_count": 17,
   "metadata": {
    "collapsed": false
   },
   "outputs": [
    {
     "data": {
      "text/plain": [
       "array([[-0.0643682 , -0.0643682 , -0.06446257, ...,  0.09693107,\n",
       "         0.09680041,  0.09680041],\n",
       "       [-0.0643682 , -0.0643682 , -0.06446257, ...,  0.09693107,\n",
       "         0.09680041,  0.09680041],\n",
       "       [-0.06425714, -0.06425714, -0.06435157, ...,  0.09681748,\n",
       "         0.09668649,  0.09668649],\n",
       "       ..., \n",
       "       [-3.72382394, -3.72382394, -2.82122573, ...,  2.89868199,\n",
       "         3.83357639,  3.83357639],\n",
       "       [-5.1779399 , -5.1779399 , -3.56390842, ...,  3.61724024,\n",
       "         5.27240106,  5.27240106],\n",
       "       [ 0.        ,  0.        ,  0.        , ...,  0.        ,\n",
       "         0.        ,  0.        ]])"
      ]
     },
     "execution_count": 17,
     "metadata": {},
     "output_type": "execute_result"
    }
   ],
   "source": [
    "p"
   ]
  },
  {
   "cell_type": "code",
   "execution_count": 20,
   "metadata": {
    "collapsed": true
   },
   "outputs": [],
   "source": [
    "def run_cavity():\n",
    "    nx = ny = 101\n",
    "    u = numpy.zeros((ny, nx))\n",
    "    v = numpy.zeros((ny, nx))\n",
    "    p = numpy.random.random((ny, nx))\n",
    "    b = numpy.zeros((ny, nx))\n",
    "\n",
    "    dx = 2 / (nx - 1)\n",
    "    dy = 2 / (ny - 1)\n",
    "    rho = 1\n",
    "    nu = 0.1\n",
    "    dt = .0001\n",
    "\n",
    "    nt = 100\n",
    "    u, v, p = cavity_flow(nt, u, v, dt, dx, dy, p, rho, nu)"
   ]
  },
  {
   "cell_type": "code",
   "execution_count": 16,
   "metadata": {
    "collapsed": false
   },
   "outputs": [],
   "source": [
    "%load_ext line_profiler"
   ]
  },
  {
   "cell_type": "code",
   "execution_count": 22,
   "metadata": {
    "collapsed": false
   },
   "outputs": [],
   "source": [
    "%lprun -f cavity_flow run_cavity()"
   ]
  },
  {
   "cell_type": "code",
   "execution_count": 21,
   "metadata": {
    "collapsed": false
   },
   "outputs": [
    {
     "name": "stdout",
     "output_type": "stream",
     "text": [
      "1 loop, best of 3: 6.37 s per loop\n"
     ]
    }
   ],
   "source": [
    "%timeit run_cavity()"
   ]
  },
  {
   "cell_type": "code",
   "execution_count": 22,
   "metadata": {
    "collapsed": true
   },
   "outputs": [],
   "source": [
    "@jit(nopython=True)\n",
    "def bracket_term_ppe_jit(b, rho, dt, u, v, dx, dy):\n",
    "    J, I = b.shape\n",
    "    for j in range(1, J - 1):\n",
    "        for i in range(1, I - 1):\n",
    "            b[j, i] = (\n",
    "                rho * (1 / dt * ((u[j, i + 1] - u[j, i - 1]) / (2 * dx) +\n",
    "                                 (v[j + 1, i] - v[j - 1, i]) / (2 * dy)) -\n",
    "                                ((u[j, i + 1] - u[j, i - 1]) / (2 * dx))**2 -\n",
    "                            2 * ((u[j + 1, i] - u[j - 1, i]) / (2 * dy) *\n",
    "                                 (v[j, i + 1] - v[j, i - 1]) / (2 * dx)) -\n",
    "                                ((v[j + 1, i] - v[j - 1, i]) / (2 * dy))**2)\n",
    "                            )\n",
    "\n",
    "    return b\n"
   ]
  },
  {
   "cell_type": "code",
   "execution_count": 23,
   "metadata": {
    "collapsed": false
   },
   "outputs": [
    {
     "name": "stdout",
     "output_type": "stream",
     "text": [
      "1 loop, best of 3: 6.37 s per loop\n"
     ]
    }
   ],
   "source": [
    "%timeit run_cavity()"
   ]
  },
  {
   "cell_type": "code",
   "execution_count": null,
   "metadata": {
    "collapsed": true
   },
   "outputs": [],
   "source": []
  }
 ],
 "metadata": {
  "kernelspec": {
   "display_name": "Python 3",
   "language": "python",
   "name": "python3"
  },
  "language_info": {
   "codemirror_mode": {
    "name": "ipython",
    "version": 3
   },
   "file_extension": ".py",
   "mimetype": "text/x-python",
   "name": "python",
   "nbconvert_exporter": "python",
   "pygments_lexer": "ipython3",
   "version": "3.5.1"
  }
 },
 "nbformat": 4,
 "nbformat_minor": 0
}
