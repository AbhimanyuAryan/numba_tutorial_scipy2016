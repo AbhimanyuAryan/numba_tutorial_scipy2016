{
 "cells": [
  {
   "cell_type": "code",
   "execution_count": 1,
   "metadata": {
    "collapsed": true
   },
   "outputs": [],
   "source": [
    "import numpy"
   ]
  },
  {
   "cell_type": "markdown",
   "metadata": {},
   "source": [
    "$$\n",
    "p_{i,j}^{n}=\\frac{(p_{i+1,j}^{n}+p_{i-1,j}^{n})\\Delta y^2+(p_{i,j+1}^{n}+p_{i,j-1}^{n})\\Delta x^2}{2(\\Delta x^2+\\Delta y^2)}-\\frac{\\rho\\Delta x^2\\Delta y^2}{2(\\Delta x^2+\\Delta y^2)} \\times$$\n",
    "\n",
    "$$\\left[\\frac{1}{\\Delta t}\\left(\\frac{u_{i+1,j}-u_{i-1,j}}{2\\Delta x}+\\frac{v_{i,j+1}-v_{i,j-1}}{2\\Delta y}\\right)-\\frac{u_{i+1,j}-u_{i-1,j}}{2\\Delta x}\\frac{u_{i+1,j}-u_{i-1,j}}{2\\Delta x}\\right. $$\n",
    "\n",
    "$$ -2\\frac{u_{i,j+1}-u_{i,j-1}}{2\\Delta y}\\frac{v_{i+1,j}-v_{i-1,j}}{2\\Delta x}-\\left.\\frac{v_{i,j+1}-v_{i,j-1}}{2\\Delta y}\\frac{v_{i,j+1}-v_{i,j-1}}{2\\Delta y}\\right]$$"
   ]
  },
  {
   "cell_type": "code",
   "execution_count": 2,
   "metadata": {
    "collapsed": true
   },
   "outputs": [],
   "source": [
    "def bracket_term_ppe(b, rho, dt, u, v, dx, dy):\n",
    "    b[1:-1, 1:-1] = (\n",
    "        rho * (1 / dt * ((u[1:-1, 2:] - u[1:-1, 0:-2]) / (2 * dx) +\n",
    "                         (v[2:, 1:-1] - v[0:-2, 1:-1]) / (2 * dy)) -\n",
    "                        ((u[1:-1, 2:] - u[1:-1, 0:-2]) / (2 * dx))**2 -\n",
    "                    2 * ((u[2:, 1:-1] - u[0:-2, 1:-1]) / (2 * dy) *\n",
    "                         (v[1:-1, 2:] - v[1:-1, 0:-2]) / (2 * dx)) -\n",
    "                        ((v[2:, 1:-1] - v[0:-2, 1:-1]) / (2 * dy))**2)\n",
    "                    )\n",
    "\n",
    "    return b\n"
   ]
  },
  {
   "cell_type": "code",
   "execution_count": 3,
   "metadata": {
    "collapsed": false,
    "scrolled": true
   },
   "outputs": [
    {
     "data": {
      "text/plain": [
       "array([[ 0.,  0.,  0.,  0.,  0.],\n",
       "       [ 0.,  0.,  0.,  0.,  0.],\n",
       "       [ 0.,  0.,  0.,  0.,  0.],\n",
       "       [ 0.,  0.,  0.,  0.,  0.],\n",
       "       [ 0.,  0.,  0.,  0.,  0.]])"
      ]
     },
     "execution_count": 3,
     "metadata": {},
     "output_type": "execute_result"
    }
   ],
   "source": [
    "b = numpy.zeros((5,5))\n",
    "u = numpy.zeros((5,5))\n",
    "v = numpy.zeros((5,5))\n",
    "dx = 0.1\n",
    "dy = 0.1\n",
    "dt = 0.1\n",
    "rho = 1.\n",
    "bracket_term_ppe(b, rho, dt, u, v, dx, dy)"
   ]
  },
  {
   "cell_type": "markdown",
   "metadata": {},
   "source": [
    "$$\n",
    "p_{i,j}^{n}=\\frac{(p_{i+1,j}^{n}+p_{i-1,j}^{n})\\Delta y^2+(p_{i,j+1}^{n}+p_{i,j-1}^{n})\\Delta x^2}{2(\\Delta x^2+\\Delta y^2)}-\\frac{\\rho\\Delta x^2\\Delta y^2}{2(\\Delta x^2+\\Delta y^2)} \\times$$\n",
    "\n",
    "$$\\left[\\frac{1}{\\Delta t}\\left(\\frac{u_{i+1,j}-u_{i-1,j}}{2\\Delta x}+\\frac{v_{i,j+1}-v_{i,j-1}}{2\\Delta y}\\right)-\\frac{u_{i+1,j}-u_{i-1,j}}{2\\Delta x}\\frac{u_{i+1,j}-u_{i-1,j}}{2\\Delta x}\\right. $$\n",
    "\n",
    "$$ -2\\frac{u_{i,j+1}-u_{i,j-1}}{2\\Delta y}\\frac{v_{i+1,j}-v_{i-1,j}}{2\\Delta x}-\\left.\\frac{v_{i,j+1}-v_{i,j-1}}{2\\Delta y}\\frac{v_{i,j+1}-v_{i,j-1}}{2\\Delta y}\\right]$$"
   ]
  },
  {
   "cell_type": "code",
   "execution_count": 33,
   "metadata": {
    "collapsed": true
   },
   "outputs": [],
   "source": [
    "def pressure_poisson(p, dx, dy, b, l2_target=1e-4):\n",
    "    #pn = numpy.empty_like(p)\n",
    "    pn = p.copy()\n",
    "    iter_diff = l2_target + 1\n",
    "    while iter_diff > l2_target:\n",
    "        pn = p.copy()\n",
    "        p[1:-1,1:-1] = (((pn[1:-1, 2:] + pn[1:-1, 0:-2]) * dy**2 + \n",
    "                        (pn[2:, 1:-1] + pn[0:-2, 1:-1]) * dx**2) /\n",
    "                        (2 * (dx**2 + dy**2)) -\n",
    "                        dx**2 * dy**2 / (2 * (dx**2 + dy**2)) *\n",
    "                        b[1:-1, 1:-1])\n",
    "\n",
    "        p[:, -1] = p[:, -2] #dp/dy = 0 at x = 2\n",
    "        p[0, :] = p[1, :] #dp/dy = 0 at y = 0\n",
    "        p[:, 0] = p[:, 1] #dp/dx = 0 at x = 0\n",
    "        p[-1, :] = 0 #p = 0 at y = 2\n",
    "        \n",
    "        iter_diff = numpy.sqrt(numpy.sum((p - pn)**2)/numpy.sum(pn**2))\n",
    "        \n",
    "    return p"
   ]
  },
  {
   "cell_type": "code",
   "execution_count": 34,
   "metadata": {
    "collapsed": true
   },
   "outputs": [],
   "source": [
    "b = bracket_term_ppe(b, rho, dt, u, v, dx, dy)"
   ]
  },
  {
   "cell_type": "code",
   "execution_count": 35,
   "metadata": {
    "collapsed": true
   },
   "outputs": [],
   "source": [
    "p = numpy.random.random((5,5))"
   ]
  },
  {
   "cell_type": "code",
   "execution_count": 36,
   "metadata": {
    "collapsed": false
   },
   "outputs": [
    {
     "ename": "ValueError",
     "evalue": "operands could not be broadcast together with shapes (3,3) (99,99) ",
     "output_type": "error",
     "traceback": [
      "\u001b[1;31m---------------------------------------------------------------------------\u001b[0m",
      "\u001b[1;31mValueError\u001b[0m                                Traceback (most recent call last)",
      "\u001b[1;32m<ipython-input-36-f628d85596cc>\u001b[0m in \u001b[0;36m<module>\u001b[1;34m()\u001b[0m\n\u001b[1;32m----> 1\u001b[1;33m \u001b[0mpressure_poisson\u001b[0m\u001b[1;33m(\u001b[0m\u001b[0mp\u001b[0m\u001b[1;33m,\u001b[0m \u001b[0mdx\u001b[0m\u001b[1;33m,\u001b[0m \u001b[0mdy\u001b[0m\u001b[1;33m,\u001b[0m \u001b[0mb\u001b[0m\u001b[1;33m)\u001b[0m\u001b[1;33m\u001b[0m\u001b[0m\n\u001b[0m",
      "\u001b[1;32m<ipython-input-33-fd95128fb0ba>\u001b[0m in \u001b[0;36mpressure_poisson\u001b[1;34m(p, dx, dy, b, l2_target)\u001b[0m\n\u001b[0;32m      9\u001b[0m                         \u001b[1;33m(\u001b[0m\u001b[1;36m2\u001b[0m \u001b[1;33m*\u001b[0m \u001b[1;33m(\u001b[0m\u001b[0mdx\u001b[0m\u001b[1;33m**\u001b[0m\u001b[1;36m2\u001b[0m \u001b[1;33m+\u001b[0m \u001b[0mdy\u001b[0m\u001b[1;33m**\u001b[0m\u001b[1;36m2\u001b[0m\u001b[1;33m)\u001b[0m\u001b[1;33m)\u001b[0m \u001b[1;33m-\u001b[0m\u001b[1;33m\u001b[0m\u001b[0m\n\u001b[0;32m     10\u001b[0m                         \u001b[0mdx\u001b[0m\u001b[1;33m**\u001b[0m\u001b[1;36m2\u001b[0m \u001b[1;33m*\u001b[0m \u001b[0mdy\u001b[0m\u001b[1;33m**\u001b[0m\u001b[1;36m2\u001b[0m \u001b[1;33m/\u001b[0m \u001b[1;33m(\u001b[0m\u001b[1;36m2\u001b[0m \u001b[1;33m*\u001b[0m \u001b[1;33m(\u001b[0m\u001b[0mdx\u001b[0m\u001b[1;33m**\u001b[0m\u001b[1;36m2\u001b[0m \u001b[1;33m+\u001b[0m \u001b[0mdy\u001b[0m\u001b[1;33m**\u001b[0m\u001b[1;36m2\u001b[0m\u001b[1;33m)\u001b[0m\u001b[1;33m)\u001b[0m \u001b[1;33m*\u001b[0m\u001b[1;33m\u001b[0m\u001b[0m\n\u001b[1;32m---> 11\u001b[1;33m                         b[1:-1, 1:-1])\n\u001b[0m\u001b[0;32m     12\u001b[0m \u001b[1;33m\u001b[0m\u001b[0m\n\u001b[0;32m     13\u001b[0m         \u001b[0mp\u001b[0m\u001b[1;33m[\u001b[0m\u001b[1;33m:\u001b[0m\u001b[1;33m,\u001b[0m \u001b[1;33m-\u001b[0m\u001b[1;36m1\u001b[0m\u001b[1;33m]\u001b[0m \u001b[1;33m=\u001b[0m \u001b[0mp\u001b[0m\u001b[1;33m[\u001b[0m\u001b[1;33m:\u001b[0m\u001b[1;33m,\u001b[0m \u001b[1;33m-\u001b[0m\u001b[1;36m2\u001b[0m\u001b[1;33m]\u001b[0m \u001b[1;31m#dp/dy = 0 at x = 2\u001b[0m\u001b[1;33m\u001b[0m\u001b[0m\n",
      "\u001b[1;31mValueError\u001b[0m: operands could not be broadcast together with shapes (3,3) (99,99) "
     ]
    }
   ],
   "source": [
    "pressure_poisson(p, dx, dy, b)"
   ]
  },
  {
   "cell_type": "markdown",
   "metadata": {},
   "source": [
    "The momentum equation in the $u$ direction:\n",
    "\n",
    "$$\n",
    "u_{i,j}^{n+1} = u_{i,j}^{n} - u_{i,j}^{n}\\frac{\\Delta t}{\\Delta x}(u_{i,j}^{n}-u_{i-1,j}^{n})\n",
    "- v_{i,j}^{n}\\frac{\\Delta t}{\\Delta y}(u_{i,j}^{n}-u_{i,j-1}^{n})$$\n",
    "$$-\\frac{\\Delta t}{\\rho 2\\Delta x}(p_{i+1,j}^{n}-p_{i-1,j}^{n})\n",
    "+\\nu\\left(\\frac{\\Delta t}{\\Delta x^2}(u_{i+1,j}^{n}-2u_{i,j}^{n}+u_{i-1,j}^{n})\\right.\n",
    "+\\left.\\frac{\\Delta t}{\\Delta y^2}(u_{i,j+1}^{n}-2u_{i,j}^{n}+u_{i,j-1}^{n})\\right)\n",
    "$$\n",
    "\n",
    "The momentum equation in the $v$ direction:\n",
    "\n",
    "$$v_{i,j}^{n+1} = v_{i,j}^{n}-u_{i,j}^{n}\\frac{\\Delta t}{\\Delta x}(v_{i,j}^{n}-v_{i-1,j}^{n})\n",
    "- v_{i,j}^{n}\\frac{\\Delta t}{\\Delta y}(v_{i,j}^{n}-v_{i,j-1}^{n})$$\n",
    "$$\n",
    "-\\frac{\\Delta t}{\\rho 2\\Delta y}(p_{i,j+1}^{n}-p_{i,j-1}^{n})\n",
    "+\\nu\\left(\\frac{\\Delta t}{\\Delta x^2}(v_{i+1,j}^{n}-2v_{i,j}^{n}+v_{i-1,j}^{n})\\right.\n",
    "+\\left.\\frac{\\Delta t}{\\Delta y^2}(v_{i,j+1}^{n}-2v_{i,j}^{n}+v_{i,j-1}^{n})\\right)$$"
   ]
  },
  {
   "cell_type": "code",
   "execution_count": 37,
   "metadata": {
    "collapsed": true
   },
   "outputs": [],
   "source": [
    "def cavity_flow(nt, u, v, dt, dx, dy, p, rho, nu):\n",
    "    un = numpy.empty_like(u)\n",
    "    vn = numpy.empty_like(v)\n",
    "    b = numpy.zeros((ny, nx))\n",
    "\n",
    "    for n in range(nt):\n",
    "        un = u.copy()\n",
    "        vn = v.copy()\n",
    "\n",
    "        b = bracket_term_ppe(b, rho, dt, u, v, dx, dy)\n",
    "        p = pressure_poisson(p, dx, dy, b)\n",
    "\n",
    "        u[1:-1,1:-1] = (un[1:-1, 1:-1] -\n",
    "                        un[1:-1,1:-1] * dt / dx *\n",
    "                        (un[1:-1, 1:-1] - un[1:-1, 0:-2]) -\n",
    "                        vn[1:-1, 1:-1 ] * dt / dy *\n",
    "                        (un[1:-1, 1:-1] - un[0:-2, 1:-1]) -\n",
    "                        dt / (2 * rho * dx) *\n",
    "                        (p[1:-1, 2:] - p[1:-1, 0:-2]) +\n",
    "                        nu * dt *\n",
    "                        (1 / dx**2 *\n",
    "                         (un[1:-1, 2:] - 2 * un[1:-1, 1:-1] + un[1:-1, 0:-2]) +\n",
    "                        1 / dy**2 *\n",
    "                         (un[2:, 1:-1] - 2 * un[1:-1, 1:-1] + un[0:-2, 1:-1])))\n",
    "\n",
    "        v[1:-1,1:-1] = (vn[1:-1, 1:-1] -\n",
    "                        un[1:-1, 1:-1] * dt / dx *\n",
    "                        (vn[1:-1, 1:-1] - vn[1:-1, 0:-2]) -\n",
    "                        vn[1:-1, 1:-1] * dt / dy *\n",
    "                        (vn[1:-1, 1:-1] - vn[0:-2, 1:-1]) -\n",
    "                        dt / (2 * rho * dy) *\n",
    "                        (p[2:, 1:-1] - p[0:-2, 1:-1]) +\n",
    "                        nu * dt *\n",
    "                        (1 / dx**2 *\n",
    "                         (vn[1:-1, 2:] - 2 * vn[1:-1, 1:-1] + vn[1:-1, 0:-2]) +\n",
    "                        1 / dy**2 *\n",
    "                         (vn[2:, 1:-1] - 2 * vn[1:-1, 1:-1] +vn[0:-2, 1:-1])))\n",
    "\n",
    "        u[:, 0] = 0\n",
    "        u[:, -1] = 0\n",
    "        v[:, 0] = 0\n",
    "        v[:, -1] = 0\n",
    "        \n",
    "        u[0, :] = 0\n",
    "        u[-1, :] = 1    #set velocity on cavity lid equal to 1\n",
    "        v[0, :] = 0\n",
    "        v[-1, :]=0\n",
    "        \n",
    "        \n",
    "        \n",
    "    return u, v, p"
   ]
  },
  {
   "cell_type": "code",
   "execution_count": 42,
   "metadata": {
    "collapsed": false
   },
   "outputs": [],
   "source": [
    "#def run_cavity():\n",
    "nx = ny = 101\n",
    "u = numpy.zeros((ny, nx))\n",
    "v = numpy.zeros((ny, nx))\n",
    "p = numpy.random.random((ny, nx))\n",
    "b = numpy.zeros((ny, nx))\n",
    "\n",
    "dx = 2 / (nx - 1)\n",
    "dy = 2 / (ny - 1)\n",
    "rho = 1\n",
    "nu = 0.1\n",
    "dt = .0005\n",
    "\n",
    "nt = 200\n",
    "u, v, p = cavity_flow(nt, u, v, dt, dx, dy, p, rho, nu)"
   ]
  },
  {
   "cell_type": "code",
   "execution_count": 43,
   "metadata": {
    "collapsed": true
   },
   "outputs": [],
   "source": [
    "from matplotlib import pyplot, cm\n",
    "%matplotlib inline"
   ]
  },
  {
   "cell_type": "code",
   "execution_count": 44,
   "metadata": {
    "collapsed": true
   },
   "outputs": [],
   "source": [
    "x = numpy.linspace(0, 2, nx)\n",
    "y = numpy.linspace(0, 2, ny)\n",
    "X, Y = numpy.meshgrid(x, y)"
   ]
  },
  {
   "cell_type": "code",
   "execution_count": 45,
   "metadata": {
    "collapsed": false
   },
   "outputs": [
    {
     "data": {
      "text/plain": [
       "<matplotlib.quiver.Quiver at 0x7f3dc739add8>"
      ]
     },
     "execution_count": 45,
     "metadata": {},
     "output_type": "execute_result"
    },
    {
     "data": {
      "image/png": "[encoded data removed]",
      "text/plain": [
       "<matplotlib.figure.Figure at 0x7f3dc73a4da0>"
      ]
     },
     "metadata": {},
     "output_type": "display_data"
    }
   ],
   "source": [
    "quiver_skip = qs = 4\n",
    "pyplot.figure(figsize=(11, 7), dpi=100)\n",
    "pyplot.contourf(X, Y, p, alpha=0.5, cmap=cm.viridis)\n",
    "pyplot.colorbar()\n",
    "pyplot.contour(X, Y, p)\n",
    "pyplot.quiver(X[::qs, ::qs], Y[::qs, ::qs], u[::qs, ::qs], v[::qs, ::qs])"
   ]
  },
  {
   "cell_type": "code",
   "execution_count": 15,
   "metadata": {
    "collapsed": false
   },
   "outputs": [
    {
     "data": {
      "text/plain": [
       "array([[-0.04902058, -0.04902058, -0.04917156, ...,  0.04853162,\n",
       "         0.04837984,  0.04837984],\n",
       "       [-0.04902058, -0.04902058, -0.04917156, ...,  0.04853162,\n",
       "         0.04837984,  0.04837984],\n",
       "       [-0.0488694 , -0.0488694 , -0.04902049, ...,  0.04837937,\n",
       "         0.04822748,  0.04822748],\n",
       "       ..., \n",
       "       [-3.5261694 , -3.5261694 , -2.60945753, ...,  2.81743975,\n",
       "         3.77026832,  3.77026832],\n",
       "       [-4.95522315, -4.95522315, -3.3104986 , ...,  3.5070443 ,\n",
       "         5.18823131,  5.18823131],\n",
       "       [ 0.        ,  0.        ,  0.        , ...,  0.        ,\n",
       "         0.        ,  0.        ]])"
      ]
     },
     "execution_count": 15,
     "metadata": {},
     "output_type": "execute_result"
    }
   ],
   "source": [
    "p"
   ]
  },
  {
   "cell_type": "code",
   "execution_count": 49,
   "metadata": {
    "collapsed": false
   },
   "outputs": [],
   "source": [
    "%load_ext line_profiler"
   ]
  },
  {
   "cell_type": "code",
   "execution_count": 50,
   "metadata": {
    "collapsed": false
   },
   "outputs": [],
   "source": [
    "%lprun -f cavity_flow run_cavity()"
   ]
  },
  {
   "cell_type": "code",
   "execution_count": 46,
   "metadata": {
    "collapsed": true
   },
   "outputs": [],
   "source": [
    "def run_cavity():\n",
    "    nx = ny = 101\n",
    "    u = numpy.zeros((ny, nx))\n",
    "    v = numpy.zeros((ny, nx))\n",
    "    p = numpy.random.random((ny, nx))\n",
    "    b = numpy.zeros((ny, nx))\n",
    "\n",
    "    dx = 2 / (nx - 1)\n",
    "    dy = 2 / (ny - 1)\n",
    "    rho = 1\n",
    "    nu = 0.1\n",
    "    dt = .0001\n",
    "\n",
    "    nt = 200\n",
    "    u, v, p = cavity_flow(nt, u, v, dt, dx, dy, p, rho, nu)"
   ]
  },
  {
   "cell_type": "code",
   "execution_count": 47,
   "metadata": {
    "collapsed": false
   },
   "outputs": [
    {
     "name": "stdout",
     "output_type": "stream",
     "text": [
      "1 loop, best of 3: 7.11 s per loop\n"
     ]
    }
   ],
   "source": [
    "%timeit run_cavity()"
   ]
  },
  {
   "cell_type": "code",
   "execution_count": null,
   "metadata": {
    "collapsed": true
   },
   "outputs": [],
   "source": []
  }
 ],
 "metadata": {
  "kernelspec": {
   "display_name": "Python 3",
   "language": "python",
   "name": "python3"
  },
  "language_info": {
   "codemirror_mode": {
    "name": "ipython",
    "version": 3
   },
   "file_extension": ".py",
   "mimetype": "text/x-python",
   "name": "python",
   "nbconvert_exporter": "python",
   "pygments_lexer": "ipython3",
   "version": "3.5.1"
  }
 },
 "nbformat": 4,
 "nbformat_minor": 0
}
