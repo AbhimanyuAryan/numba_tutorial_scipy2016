{
 "cells": [
  {
   "cell_type": "code",
   "execution_count": 1,
   "metadata": {
    "collapsed": true
   },
   "outputs": [],
   "source": [
    "import numpy"
   ]
  },
  {
   "cell_type": "markdown",
   "metadata": {},
   "source": [
    "\\begin{align}\n",
    "p_{i,j}^{n} &= \\frac{1}{4}\\left(p_{i+1,j}^{n}+p_{i-1,j}^{n}+p_{i,j+1}^{n}+p_{i,j-1}^{n}\\right) \\\\\n",
    "&-\\frac{\\rho \\Delta x}{16} \\left( \\frac{2}{\\Delta t} \\left(u_{i+1,j} - u_{i-1,j} + v_{i,j+1} - v_{i,j-1}\\right) \\right . \\\\\n",
    "&- \\frac{\\left(u_{i+1,j} - u_{i-1,j} \\right)^2}{2\\Delta x} \n",
    "- \\frac{ \\left(v_{i,j+1} - v_{i,j-1} \\right)^2 }{2\\Delta x} \\\\\n",
    "&- \\left .\\left(u_{i,j+1} - u_{i,j-1} \\right) \\left(v_{i+1,j} - v_{i-1,j} \\right) \\right )\\\\\n",
    "\\end{align}"
   ]
  },
  {
   "cell_type": "code",
   "execution_count": 65,
   "metadata": {
    "collapsed": true
   },
   "outputs": [],
   "source": [
    "def velocity_term(b, rho, dt, u, v, dx):\n",
    "    b[1:-1, 1:-1] = (\n",
    "        rho * dx / 16 * (2 / dt * (\n",
    "                u[1:-1, 2:] - u[1:-1, :-2] + v[2:, 1:-1] - v[:-2, 1:-1]) - \n",
    "                (u[1:-1, 2:] - u[1:-1, :-2])**2 / dx -\n",
    "                2 / dx * (u[2:, 1:-1] - u[:-2, 1:-1]) * (v[1:-1, 2:] - v[1:-1, :-2]) -\n",
    "                (v[2:, 1:-1] - v[:-2, 1:-1])**2 / dx) \n",
    "                        )\n",
    "\n",
    "    return b\n"
   ]
  },
  {
   "cell_type": "code",
   "execution_count": 66,
   "metadata": {
    "collapsed": false,
    "scrolled": true
   },
   "outputs": [
    {
     "data": {
      "text/plain": [
       "array([[ 0.,  0.,  0.,  0.,  0.],\n",
       "       [ 0.,  0.,  0.,  0.,  0.],\n",
       "       [ 0.,  0.,  0.,  0.,  0.],\n",
       "       [ 0.,  0.,  0.,  0.,  0.],\n",
       "       [ 0.,  0.,  0.,  0.,  0.]])"
      ]
     },
     "execution_count": 66,
     "metadata": {},
     "output_type": "execute_result"
    }
   ],
   "source": [
    "b = numpy.zeros((5,5))\n",
    "u = numpy.zeros((5,5))\n",
    "v = numpy.zeros((5,5))\n",
    "dx = 0.1\n",
    "dy = 0.1\n",
    "dt = 0.1\n",
    "rho = 1.\n",
    "velocity_term(b, rho, dt, u, v, dx)"
   ]
  },
  {
   "cell_type": "markdown",
   "metadata": {},
   "source": [
    "\\begin{align}\n",
    "p_{i,j}^{n} &= \\frac{1}{4}\\left(p_{i+1,j}^{n}+p_{i-1,j}^{n}+p_{i,j+1}^{n}+p_{i,j-1}^{n}\\right) \\\\\n",
    "&-\\frac{\\rho \\Delta x}{8} \\left( \\frac{1}{\\Delta t} \\left(u_{i+1,j} - u_{i-1,j} + v_{i,j+1} - v_{i,j-1}\\right) \\right . \\\\\n",
    "&- \\frac{1}{2\\Delta x} \\left(u_{i+1,j} - u_{i-1,j} \\right)^2 \\\\\n",
    "&- 2 \\left(u_{i,j+1} - u_{i,j-1} \\right) \\left(v_{i+1,j} - v_{i-1,j} \\right) \\\\\n",
    "&- \\left . \\frac{1}{2\\Delta x} \\left(v_{i,j+1} - v_{i,j-1} \\right)^2 \\right ) \\\\\n",
    "\\end{align}"
   ]
  },
  {
   "cell_type": "code",
   "execution_count": 67,
   "metadata": {
    "collapsed": false
   },
   "outputs": [],
   "source": [
    "def pressure_poisson(p, dx, dy, b, l2_target=1e-4):\n",
    "    #pn = numpy.empty_like(p)\n",
    "    pn = p.copy()\n",
    "    iter_diff = l2_target + 1\n",
    "    while iter_diff > l2_target:\n",
    "        n = 0\n",
    "        pn = p.copy()\n",
    "        p[1:-1,1:-1] = (.25 * (pn[1:-1, 2:] + pn[1:-1, :-2] + pn[2:, 1:-1] + pn[:-2, 1:-1])\n",
    "                        - b[1:-1, 1:-1])\n",
    "        \n",
    "        p[:, 0] = p[:, 1]   #dp/dx = 0 at x = 0\n",
    "        p[:, -1] = p[:, -2] #dp/dy = 0 at x = 2\n",
    "        p[0, :] = p[1, :]   #dp/dy = 0 at y = 0\n",
    "        p[-1, :] = 0        #p = 0 at y = 2      \n",
    "        \n",
    "        if n % 10 == 0:\n",
    "            iter_diff = numpy.sqrt(numpy.sum((p - pn)**2)/numpy.sum(pn**2))\n",
    "        \n",
    "        if n == 500:\n",
    "            break\n",
    "            \n",
    "        n += 1\n",
    "        \n",
    "    return p"
   ]
  },
  {
   "cell_type": "code",
   "execution_count": 68,
   "metadata": {
    "collapsed": true
   },
   "outputs": [],
   "source": [
    "b = velocity_term(b, rho, dt, u, v, dx)"
   ]
  },
  {
   "cell_type": "code",
   "execution_count": 69,
   "metadata": {
    "collapsed": true
   },
   "outputs": [],
   "source": [
    "p = numpy.random.random((5,5))"
   ]
  },
  {
   "cell_type": "code",
   "execution_count": 70,
   "metadata": {
    "collapsed": false
   },
   "outputs": [
    {
     "data": {
      "text/plain": [
       "array([[  2.90192563e-161,   2.90192563e-161,   2.90192563e-161,\n",
       "          2.90192563e-161,   2.90192563e-161],\n",
       "       [  2.90192563e-161,   2.90192563e-161,   2.90192563e-161,\n",
       "          2.90192563e-161,   2.90192563e-161],\n",
       "       [  2.32716367e-161,   2.32716367e-161,   2.32716367e-161,\n",
       "          2.32716367e-161,   2.32716367e-161],\n",
       "       [  1.29147840e-161,   1.29147840e-161,   1.29147840e-161,\n",
       "          1.29147840e-161,   1.29147840e-161],\n",
       "       [  0.00000000e+000,   0.00000000e+000,   0.00000000e+000,\n",
       "          0.00000000e+000,   0.00000000e+000]])"
      ]
     },
     "execution_count": 70,
     "metadata": {},
     "output_type": "execute_result"
    }
   ],
   "source": [
    "pressure_poisson(p, dx, dy, b)"
   ]
  },
  {
   "cell_type": "markdown",
   "metadata": {},
   "source": [
    "The momentum equation in the $u$ direction:\n",
    "\n",
    "\\begin{align}\n",
    "u_{i,j}^{n+1} = u_{i,j}^{n} &- \\frac{\\Delta t}{\\Delta x} \\left( u_{i,j}^{n}(u_{i,j}^{n}-u_{i-1,j}^{n})\n",
    "+ v_{i,j}^{n} (u_{i,j}^{n}-u_{i,j-1}^{n}) + \\frac{1}{2 \\rho}(p_{i+1,j}^{n}-p_{i-1,j}^{n}) \\right) \\\\\n",
    "&+\\frac{\\nu \\Delta t}{\\Delta x^2}\\left(u_{i+1,j}^{n} + u_{i-1,j}^{n} + u_{i,j+1}^{n} + u_{i,j-1}^{n} -4u_{i,j}^{n}\\right)\n",
    "\\end{align}\n",
    "\n",
    "The momentum equation in the $v$ direction:\n",
    "\n",
    "\\begin{align}\n",
    "v_{i,j}^{n+1} = v_{i,j}^{n} &- \\frac{\\Delta t}{\\Delta x} \\left( u_{i,j}^{n}(v_{i,j}^{n}-v_{i-1,j}^{n})\n",
    "+ v_{i,j}^{n} (v_{i,j}^{n}-v_{i,j-1}^{n}) + \\frac{1}{2 \\rho}(p_{i,j+1}^{n}-p_{i,j-1}^{n}) \\right) \\\\\n",
    "&+\\frac{\\nu \\Delta t}{\\Delta x^2}\\left(v_{i+1,j}^{n} + v_{i-1,j}^{n} + v_{i,j+1}^{n} + v_{i,j-1}^{n} -4v_{i,j}^{n}\\right)\n",
    "\\end{align}\n",
    "\n"
   ]
  },
  {
   "cell_type": "code",
   "execution_count": 71,
   "metadata": {
    "collapsed": false
   },
   "outputs": [],
   "source": [
    "def cavity_flow(nt, u, v, dt, dx, dy, p, rho, nu):\n",
    "    un = numpy.empty_like(u)\n",
    "    vn = numpy.empty_like(v)\n",
    "    ny, nx = u.shape\n",
    "    b = numpy.zeros((ny, nx))\n",
    "\n",
    "    for n in range(nt):\n",
    "        un = u.copy()\n",
    "        vn = v.copy()\n",
    "\n",
    "        b = velocity_term(b, rho, dt, u, v, dx)\n",
    "        p = pressure_poisson(p, dx, dy, b, 1e-3)\n",
    "\n",
    "        u[1:-1,1:-1] = (un[1:-1, 1:-1] - dt / dx * \n",
    "                        (un[1:-1,1:-1] * (un[1:-1, 1:-1] - \n",
    "                                          un[1:-1, :-2]) +\n",
    "                        vn[1:-1, 1:-1 ] * (un[1:-1, 1:-1] - \n",
    "                                            un[:-2, 1:-1]) +\n",
    "                        1 / (2 * rho) * (p[1:-1, 2:] - \n",
    "                                         p[1:-1, :-2])) + \n",
    "                          nu * dt / dx**2 *\n",
    "                         (un[1:-1, 2:] + \n",
    "                          un[1:-1, :-2] + \n",
    "                          un[2:, 1:-1] + \n",
    "                          un[:-2, 1:-1] - \n",
    "                          4 * un[1:-1, 1:-1]))\n",
    "\n",
    "        v[1:-1,1:-1] = (vn[1:-1, 1:-1] - dt / dx * \n",
    "                        (un[1:-1,1:-1] * (vn[1:-1, 1:-1] - \n",
    "                                          vn[1:-1, :-2]) +\n",
    "                         vn[1:-1, 1:-1 ] * (vn[1:-1, 1:-1] - \n",
    "                                            vn[:-2, 1:-1]) +\n",
    "                        1 / (2 * rho) * (p[2:, 1:-1] - \n",
    "                                         p[:-2, 1:-1])) + \n",
    "                        nu * dt / dx**2 *\n",
    "                         (vn[1:-1, 2:] + \n",
    "                          vn[1:-1, :-2] + \n",
    "                          vn[2:, 1:-1] + \n",
    "                          vn[:-2, 1:-1] - \n",
    "                          4 * vn[1:-1, 1:-1]))\n",
    "\n",
    "        u[:, 0] = 0\n",
    "        u[:, -1] = 0\n",
    "        v[:, 0] = 0\n",
    "        v[:, -1] = 0\n",
    "        \n",
    "        u[0, :] = 0\n",
    "        u[-1, :] = 1    #set velocity on cavity lid equal to 1\n",
    "        v[0, :] = 0\n",
    "        v[-1, :]=0\n",
    "        \n",
    "        \n",
    "        \n",
    "    return u, v, p"
   ]
  },
  {
   "cell_type": "code",
   "execution_count": 72,
   "metadata": {
    "collapsed": true
   },
   "outputs": [],
   "source": [
    "import pickle"
   ]
  },
  {
   "cell_type": "code",
   "execution_count": 73,
   "metadata": {
    "collapsed": true
   },
   "outputs": [],
   "source": [
    "# nx = 41\n",
    "# ny = 41\n",
    "# u = numpy.zeros((ny, nx))\n",
    "# v = numpy.zeros((ny, nx))\n",
    "# p = numpy.random.random((ny, nx))\n",
    "# b = numpy.zeros((ny, nx))"
   ]
  },
  {
   "cell_type": "code",
   "execution_count": 74,
   "metadata": {
    "collapsed": true
   },
   "outputs": [],
   "source": [
    "# with open('IC.pickle', 'wb') as f:\n",
    "#     pickle.dump((u, v, p, b), f)"
   ]
  },
  {
   "cell_type": "code",
   "execution_count": 75,
   "metadata": {
    "collapsed": true
   },
   "outputs": [],
   "source": [
    "def run_cavity():\n",
    "    nx = 41\n",
    "    ny = 41\n",
    "    with open('notebooks/IC.pickle', 'rb') as f:\n",
    "        u, v, p, b = pickle.load(f)\n",
    "\n",
    "    dx = 2 / (nx - 1)\n",
    "    dy = 2 / (ny - 1)\n",
    "    rho = 1\n",
    "    nu = 0.1\n",
    "    dt = .005\n",
    "\n",
    "    nt = 500\n",
    "    u, v, p = cavity_flow(nt, u, v, dt, dx, dy, p, rho, nu)\n",
    "    return u, v, p"
   ]
  },
  {
   "cell_type": "code",
   "execution_count": 76,
   "metadata": {
    "collapsed": false,
    "scrolled": true
   },
   "outputs": [],
   "source": [
    "u, v, p = run_cavity()"
   ]
  },
  {
   "cell_type": "code",
   "execution_count": 31,
   "metadata": {
    "collapsed": true
   },
   "outputs": [],
   "source": [
    "from matplotlib import pyplot, cm\n",
    "%matplotlib inline"
   ]
  },
  {
   "cell_type": "code",
   "execution_count": 32,
   "metadata": {
    "collapsed": false
   },
   "outputs": [],
   "source": [
    "nx = 41\n",
    "ny = 41\n",
    "x = numpy.linspace(0, 2, nx)\n",
    "y = numpy.linspace(0, 2, ny)\n",
    "X, Y = numpy.meshgrid(x, y)"
   ]
  },
  {
   "cell_type": "code",
   "execution_count": 33,
   "metadata": {
    "collapsed": false
   },
   "outputs": [
    {
     "data": {
      "text/plain": [
       "<matplotlib.quiver.Quiver at 0x7ff790283e10>"
      ]
     },
     "execution_count": 33,
     "metadata": {},
     "output_type": "execute_result"
    },
    {
     "data": {
      "image/png": "[encoded data removed]",
      "text/plain": [
       "<matplotlib.figure.Figure at 0x7ff790bd5908>"
      ]
     },
     "metadata": {},
     "output_type": "display_data"
    }
   ],
   "source": [
    "quiver_skip = qs = 4\n",
    "pyplot.figure(figsize=(11, 7), dpi=100)\n",
    "pyplot.contourf(X, Y, p, alpha=0.5, cmap=cm.viridis)\n",
    "pyplot.colorbar()\n",
    "pyplot.contour(X, Y, p)\n",
    "pyplot.quiver(X[::qs, ::qs], Y[::qs, ::qs], u[::qs, ::qs], v[::qs, ::qs])"
   ]
  },
  {
   "cell_type": "code",
   "execution_count": 77,
   "metadata": {
    "collapsed": false
   },
   "outputs": [],
   "source": [
    "with open('notebooks/numpy_ans.pickle', 'rb') as f:\n",
    "    ua, va, pa = pickle.load(f)"
   ]
  },
  {
   "cell_type": "code",
   "execution_count": 78,
   "metadata": {
    "collapsed": false
   },
   "outputs": [
    {
     "data": {
      "text/plain": [
       "True"
      ]
     },
     "execution_count": 78,
     "metadata": {},
     "output_type": "execute_result"
    }
   ],
   "source": [
    "numpy.allclose(ua, u)"
   ]
  },
  {
   "cell_type": "code",
   "execution_count": 37,
   "metadata": {
    "collapsed": false
   },
   "outputs": [
    {
     "data": {
      "text/plain": [
       "array([[  0.00000000e+00,   0.00000000e+00,   0.00000000e+00, ...,\n",
       "          0.00000000e+00,   0.00000000e+00,   0.00000000e+00],\n",
       "       [  0.00000000e+00,   3.09855847e-06,  -5.59072850e-05, ...,\n",
       "         -3.34469940e-05,   1.25444428e-05,   0.00000000e+00],\n",
       "       [  0.00000000e+00,  -1.28636944e-04,  -3.97992834e-04, ...,\n",
       "         -3.59909460e-04,  -1.11638480e-04,   0.00000000e+00],\n",
       "       ..., \n",
       "       [  0.00000000e+00,   1.36556495e-01,   2.21147018e-01, ...,\n",
       "          2.48993225e-01,   1.55518625e-01,   0.00000000e+00],\n",
       "       [  0.00000000e+00,   3.62240978e-01,   4.87894416e-01, ...,\n",
       "          5.10979720e-01,   3.87415674e-01,   0.00000000e+00],\n",
       "       [  1.00000000e+00,   1.00000000e+00,   1.00000000e+00, ...,\n",
       "          1.00000000e+00,   1.00000000e+00,   1.00000000e+00]])"
      ]
     },
     "execution_count": 37,
     "metadata": {},
     "output_type": "execute_result"
    }
   ],
   "source": [
    "ua"
   ]
  },
  {
   "cell_type": "code",
   "execution_count": 38,
   "metadata": {
    "collapsed": false
   },
   "outputs": [
    {
     "data": {
      "text/plain": [
       "array([[  0.00000000e+00,   0.00000000e+00,   0.00000000e+00, ...,\n",
       "          0.00000000e+00,   0.00000000e+00,   0.00000000e+00],\n",
       "       [  0.00000000e+00,   2.88915876e-06,  -5.60847842e-05, ...,\n",
       "         -3.31643140e-05,   1.26791839e-05,   0.00000000e+00],\n",
       "       [  0.00000000e+00,  -1.28646408e-04,  -3.97967995e-04, ...,\n",
       "         -3.59176188e-04,  -1.11344780e-04,   0.00000000e+00],\n",
       "       ..., \n",
       "       [  0.00000000e+00,   1.36642320e-01,   2.21242450e-01, ...,\n",
       "          2.48560256e-01,   1.55211719e-01,   0.00000000e+00],\n",
       "       [  0.00000000e+00,   3.62892276e-01,   4.88701164e-01, ...,\n",
       "          5.09770605e-01,   3.86436371e-01,   0.00000000e+00],\n",
       "       [  1.00000000e+00,   1.00000000e+00,   1.00000000e+00, ...,\n",
       "          1.00000000e+00,   1.00000000e+00,   1.00000000e+00]])"
      ]
     },
     "execution_count": 38,
     "metadata": {},
     "output_type": "execute_result"
    }
   ],
   "source": [
    "u"
   ]
  },
  {
   "cell_type": "code",
   "execution_count": null,
   "metadata": {
    "collapsed": true
   },
   "outputs": [],
   "source": [
    "with open('numpy_ans.pickle', 'wb') as f:\n",
    "    pickle.dump((u, v, p), f)"
   ]
  },
  {
   "cell_type": "code",
   "execution_count": null,
   "metadata": {
    "collapsed": false
   },
   "outputs": [],
   "source": [
    "%%timeit\n",
    "run_cavity()"
   ]
  },
  {
   "cell_type": "code",
   "execution_count": null,
   "metadata": {
    "collapsed": true
   },
   "outputs": [],
   "source": []
  },
  {
   "cell_type": "code",
   "execution_count": null,
   "metadata": {
    "collapsed": false
   },
   "outputs": [],
   "source": [
    "%load_ext line_profiler"
   ]
  },
  {
   "cell_type": "code",
   "execution_count": null,
   "metadata": {
    "collapsed": false
   },
   "outputs": [],
   "source": [
    "%lprun -f cavity_flow run_cavity()"
   ]
  }
 ],
 "metadata": {
  "kernelspec": {
   "display_name": "Python 3",
   "language": "python",
   "name": "python3"
  },
  "language_info": {
   "codemirror_mode": {
    "name": "ipython",
    "version": 3
   },
   "file_extension": ".py",
   "mimetype": "text/x-python",
   "name": "python",
   "nbconvert_exporter": "python",
   "pygments_lexer": "ipython3",
   "version": "3.5.1"
  }
 },
 "nbformat": 4,
 "nbformat_minor": 0
}
