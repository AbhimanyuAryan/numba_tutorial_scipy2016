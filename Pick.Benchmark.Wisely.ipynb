{
 "cells": [
  {
   "cell_type": "markdown",
   "metadata": {
    "slideshow": {
     "slide_type": "slide"
    }
   },
   "source": [
    "## Pick your benchmark wisely"
   ]
  },
  {
   "cell_type": "markdown",
   "metadata": {
    "slideshow": {
     "slide_type": "slide"
    }
   },
   "source": [
    "Numba can do incredible things, but don't forget that NumPy is already a *highly* optimized library and no matter how clever your LLVM wizardry is, hand-tuned C will win.  \n",
    "\n",
    "**BUT**\n",
    "\n",
    "Remember, too, that what you choose as a benchmark can skew your perceptions.  "
   ]
  },
  {
   "cell_type": "markdown",
   "metadata": {
    "slideshow": {
     "slide_type": "subslide"
    }
   },
   "source": [
    "Let's take a quick look at dot products.  \n",
    "\n",
    "Recall that the dot product of two vectors $\\textbf{A}$ and $\\textbf{B}$ is given as\n",
    "\n",
    "\\begin{equation}\n",
    "\\textbf{A} \\cdot \\textbf{B} = \\sum_{i=1}^n A_iB_i = A_1B_1 + A_2B_2 + \\cdots + A_nB_n\n",
    "\\end{equation}"
   ]
  },
  {
   "cell_type": "code",
   "execution_count": null,
   "metadata": {
    "collapsed": true,
    "slideshow": {
     "slide_type": "slide"
    }
   },
   "outputs": [],
   "source": [
    "from numba import njit\n",
    "import numpy"
   ]
  },
  {
   "cell_type": "code",
   "execution_count": null,
   "metadata": {
    "collapsed": true,
    "slideshow": {
     "slide_type": "fragment"
    }
   },
   "outputs": [],
   "source": [
    "@njit\n",
    "def mydot(a, b):\n",
    "    assert a.shape == b.shape\n",
    "    assert len(a.shape) == 1\n",
    "    res = 0\n",
    "    for i in range(a.shape[0]):\n",
    "        res += a[i] * b[i]\n",
    "        \n",
    "    return res\n",
    "        "
   ]
  },
  {
   "cell_type": "code",
   "execution_count": null,
   "metadata": {
    "collapsed": true,
    "slideshow": {
     "slide_type": "fragment"
    }
   },
   "outputs": [],
   "source": [
    "a = numpy.ones(5)\n",
    "b = numpy.ones(5)\n",
    "\n",
    "assert mydot(a, b) == numpy.dot(a, b)"
   ]
  },
  {
   "cell_type": "code",
   "execution_count": null,
   "metadata": {
    "collapsed": false,
    "slideshow": {
     "slide_type": "fragment"
    }
   },
   "outputs": [],
   "source": [
    "print('Numba dot product:')\n",
    "%timeit mydot(a, b)\n",
    "print('Numpy dot product:')\n",
    "%timeit numpy.dot(a, b)"
   ]
  },
  {
   "cell_type": "markdown",
   "metadata": {
    "slideshow": {
     "slide_type": "slide"
    }
   },
   "source": [
    "## OMG NUMBA IS FASTER THAN NUMPY ALL THE TIME"
   ]
  },
  {
   "cell_type": "markdown",
   "metadata": {
    "slideshow": {
     "slide_type": "fragment"
    }
   },
   "source": [
    "No it's not.  NumPy has some small overhead for serious BLAS/MKL stuff and so you lose out (a few *nano*seconds) for small problems.  But what about something a little larger?"
   ]
  },
  {
   "cell_type": "code",
   "execution_count": null,
   "metadata": {
    "collapsed": true,
    "slideshow": {
     "slide_type": "slide"
    }
   },
   "outputs": [],
   "source": [
    "a = numpy.random.random(2000)\n",
    "b = numpy.random.random(2000)"
   ]
  },
  {
   "cell_type": "code",
   "execution_count": null,
   "metadata": {
    "collapsed": false,
    "slideshow": {
     "slide_type": "fragment"
    }
   },
   "outputs": [],
   "source": [
    "print('Numba dot product:')\n",
    "%timeit mydot(a, b)\n",
    "print('Numpy dot product:')\n",
    "%timeit numpy.dot(a, b)"
   ]
  }
 ],
 "metadata": {
  "celltoolbar": "Slideshow",
  "kernelspec": {
   "display_name": "Python 3",
   "language": "python",
   "name": "python3"
  },
  "language_info": {
   "codemirror_mode": {
    "name": "ipython",
    "version": 3
   },
   "file_extension": ".py",
   "mimetype": "text/x-python",
   "name": "python",
   "nbconvert_exporter": "python",
   "pygments_lexer": "ipython3",
   "version": "3.5.1"
  }
 },
 "nbformat": 4,
 "nbformat_minor": 0
}
