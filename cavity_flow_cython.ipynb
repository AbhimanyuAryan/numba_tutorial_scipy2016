{
 "cells": [
  {
   "cell_type": "code",
   "execution_count": null,
   "metadata": {
    "collapsed": true
   },
   "outputs": [],
   "source": [
    "import numpy"
   ]
  },
  {
   "cell_type": "code",
   "execution_count": null,
   "metadata": {
    "collapsed": true
   },
   "outputs": [],
   "source": [
    "def bracket_term_ppe(b, rho, dt, u, v, dx, dy):\n",
    "    b[1:-1, 1:-1] = (\n",
    "        rho * (1 / dt * ((u[1:-1, 2:] - u[1:-1, 0:-2]) / (2 * dx) +\n",
    "                         (v[2:, 1:-1] - v[0:-2, 1:-1]) / (2 * dy)) -\n",
    "                        ((u[1:-1, 2:] - u[1:-1, 0:-2]) / (2 * dx))**2 -\n",
    "                    2 * ((u[2:, 1:-1] - u[0:-2, 1:-1]) / (2 * dy) *\n",
    "                         (v[1:-1, 2:] - v[1:-1, 0:-2]) / (2 * dx)) -\n",
    "                        ((v[2:, 1:-1] - v[0:-2, 1:-1]) / (2 * dy))**2)\n",
    "                    )\n",
    "\n",
    "    return b\n"
   ]
  },
  {
   "cell_type": "code",
   "execution_count": null,
   "metadata": {
    "collapsed": false
   },
   "outputs": [],
   "source": [
    "%load_ext cython"
   ]
  },
  {
   "cell_type": "code",
   "execution_count": null,
   "metadata": {
    "collapsed": false
   },
   "outputs": [],
   "source": [
    "%%cython\n",
    "cimport numpy\n",
    "cimport cython\n",
    "\n",
    "import numpy\n",
    "\n",
    "from libc.math cimport sqrt\n",
    "\n",
    "@cython.boundscheck(False)\n",
    "def pressure_poisson(numpy.ndarray[numpy.float_t, ndim=2] p,\n",
    "                     double dx, \n",
    "                     double dy, \n",
    "                     numpy.ndarray[numpy.float_t, ndim=2] b,\n",
    "                     numpy.ndarray[numpy.float_t, ndim=2] pn,\n",
    "                     double l2_target):\n",
    "    \n",
    "    cdef int j, i, n\n",
    "    cdef double iter_diff\n",
    "    cdef int J = b.shape[0]\n",
    "    cdef int I = b.shape[1]    \n",
    "    \n",
    "    iter_diff = l2_target + 1\n",
    "    \n",
    "    while iter_diff > l2_target:\n",
    "        n = 0\n",
    "        pn = p.copy()\n",
    "        for j in range(1, J - 1):\n",
    "            for i in range(1, I - 1):\n",
    "                p[j, i] = (((pn[j, i + 1] + pn[j, i - 1]) * dy**2 + \n",
    "                            (pn[j + 1, i] + pn[j - 1, i]) * dx**2) /\n",
    "                            (2 * (dx**2 + dy**2)) -\n",
    "                            dx**2 * dy**2 / (2 * (dx**2 + dy**2)) *\n",
    "                            b[j, i])\n",
    "\n",
    "        for j in range(J):\n",
    "            p[j, 0] = p[j, 1]\n",
    "            p[j, -1] = p[j, -2]\n",
    "            \n",
    "        for i in range(I):\n",
    "            p[0, i] = p[1, i]\n",
    "            p[-1, i] = 0\n",
    "            \n",
    "        \n",
    "        if n % 10 == 0:\n",
    "            iter_diff = L2_Cython(p, pn)\n",
    "        if n == 500:\n",
    "            break\n",
    "            \n",
    "        n += 1\n",
    "        \n",
    "    return p\n",
    "\n",
    "@cython.boundscheck(False)\n",
    "def L2_Cython(numpy.ndarray[numpy.float_t, ndim=2] p, \n",
    "              numpy.ndarray[numpy.float_t, ndim=2] pn):\n",
    "    cdef double error = 0\n",
    "    cdef double pnsum = 0\n",
    "    cdef int ny = p.shape[0]\n",
    "    cdef int nx = p.shape[1]\n",
    "    for i in range(nx):\n",
    "        for j in range(ny):\n",
    "            error += (p[i,j]-pn[i,j])**2\n",
    "            pnsum += pn[i,j]**2\n",
    "            \n",
    "    return sqrt(error/pnsum)"
   ]
  },
  {
   "cell_type": "code",
   "execution_count": null,
   "metadata": {
    "collapsed": true
   },
   "outputs": [],
   "source": [
    "def cavity_flow(nt, u, v, dt, dx, dy, p, rho, nu):\n",
    "    un = numpy.empty_like(u)\n",
    "    vn = numpy.empty_like(v)\n",
    "    ny, nx = u.shape\n",
    "    b = numpy.zeros((ny, nx))\n",
    "\n",
    "    for n in range(nt):\n",
    "        un = u.copy()\n",
    "        vn = v.copy()\n",
    "\n",
    "        b = bracket_term_ppe(b, rho, dt, u, v, dx, dy)\n",
    "        p = pressure_poisson(p, dx, dy, b, numpy.empty_like(p), 1e-3)\n",
    "\n",
    "        u[1:-1,1:-1] = (un[1:-1, 1:-1] -\n",
    "                        un[1:-1,1:-1] * dt / dx *\n",
    "                        (un[1:-1, 1:-1] - un[1:-1, 0:-2]) -\n",
    "                        vn[1:-1, 1:-1 ] * dt / dy *\n",
    "                        (un[1:-1, 1:-1] - un[0:-2, 1:-1]) -\n",
    "                        dt / (2 * rho * dx) *\n",
    "                        (p[1:-1, 2:] - p[1:-1, 0:-2]) +\n",
    "                        nu * dt *\n",
    "                        (1 / dx**2 *\n",
    "                         (un[1:-1, 2:] - 2 * un[1:-1, 1:-1] + un[1:-1, 0:-2]) +\n",
    "                        1 / dy**2 *\n",
    "                         (un[2:, 1:-1] - 2 * un[1:-1, 1:-1] + un[0:-2, 1:-1])))\n",
    "\n",
    "        v[1:-1,1:-1] = (vn[1:-1, 1:-1] -\n",
    "                        un[1:-1, 1:-1] * dt / dx *\n",
    "                        (vn[1:-1, 1:-1] - vn[1:-1, 0:-2]) -\n",
    "                        vn[1:-1, 1:-1] * dt / dy *\n",
    "                        (vn[1:-1, 1:-1] - vn[0:-2, 1:-1]) -\n",
    "                        dt / (2 * rho * dy) *\n",
    "                        (p[2:, 1:-1] - p[0:-2, 1:-1]) +\n",
    "                        nu * dt *\n",
    "                        (1 / dx**2 *\n",
    "                         (vn[1:-1, 2:] - 2 * vn[1:-1, 1:-1] + vn[1:-1, 0:-2]) +\n",
    "                        1 / dy**2 *\n",
    "                         (vn[2:, 1:-1] - 2 * vn[1:-1, 1:-1] +vn[0:-2, 1:-1])))\n",
    "\n",
    "        #remember order of these will have a (very small) effect on the \n",
    "        #final answers.  if you want to compare between versions, make sure\n",
    "        #they match up\n",
    "        u[:, 0] = 0\n",
    "        u[:, -1] = 0\n",
    "        v[:, 0] = 0\n",
    "        v[:, -1] = 0\n",
    "        u[0, :] = 0\n",
    "        u[-1, :] = 1    #set velocity on cavity lid equal to 1\n",
    "        v[0, :] = 0\n",
    "        v[-1, :]=0\n",
    "        \n",
    "        \n",
    "        \n",
    "    return u, v, p"
   ]
  },
  {
   "cell_type": "code",
   "execution_count": null,
   "metadata": {
    "collapsed": false
   },
   "outputs": [],
   "source": [
    "import pickle"
   ]
  },
  {
   "cell_type": "code",
   "execution_count": null,
   "metadata": {
    "collapsed": true
   },
   "outputs": [],
   "source": [
    "def run_cavity():\n",
    "    nx = 41\n",
    "    ny = 41\n",
    "    with open('IC.pickle', 'rb') as f:\n",
    "        u, v, p, b = pickle.load(f)\n",
    "\n",
    "    dx = 2 / (nx - 1)\n",
    "    dy = 2 / (ny - 1)\n",
    "    rho = 1\n",
    "    nu = 0.1\n",
    "    dt = .005\n",
    "\n",
    "    nt = 500\n",
    "    u, v, p = cavity_flow(nt, u, v, dt, dx, dy, p, rho, nu)\n",
    "    \n",
    "    return u, v, p"
   ]
  },
  {
   "cell_type": "code",
   "execution_count": null,
   "metadata": {
    "collapsed": true
   },
   "outputs": [],
   "source": [
    "import time"
   ]
  },
  {
   "cell_type": "code",
   "execution_count": null,
   "metadata": {
    "collapsed": false
   },
   "outputs": [],
   "source": [
    "tic = time.time()\n",
    "u, v, p = run_cavity()\n",
    "toc = time.time()"
   ]
  },
  {
   "cell_type": "code",
   "execution_count": null,
   "metadata": {
    "collapsed": false
   },
   "outputs": [],
   "source": [
    "toc-tic"
   ]
  },
  {
   "cell_type": "code",
   "execution_count": null,
   "metadata": {
    "collapsed": true
   },
   "outputs": [],
   "source": [
    "from matplotlib import pyplot, cm\n",
    "%matplotlib inline"
   ]
  },
  {
   "cell_type": "code",
   "execution_count": null,
   "metadata": {
    "collapsed": false
   },
   "outputs": [],
   "source": [
    "nx = 41\n",
    "ny = 41\n",
    "x = numpy.linspace(0, 2, nx)\n",
    "y = numpy.linspace(0, 2, ny)\n",
    "X, Y = numpy.meshgrid(x, y)"
   ]
  },
  {
   "cell_type": "code",
   "execution_count": null,
   "metadata": {
    "collapsed": false
   },
   "outputs": [],
   "source": [
    "quiver_skip = qs = 4\n",
    "pyplot.figure(figsize=(11, 7), dpi=100)\n",
    "pyplot.contourf(X, Y, p, alpha=0.5, cmap=cm.viridis)\n",
    "pyplot.colorbar()\n",
    "pyplot.contour(X, Y, p)\n",
    "pyplot.quiver(X[::qs, ::qs], Y[::qs, ::qs], u[::qs, ::qs], v[::qs, ::qs])"
   ]
  },
  {
   "cell_type": "code",
   "execution_count": null,
   "metadata": {
    "collapsed": true
   },
   "outputs": [],
   "source": [
    "with open('numpy_ans.pickle', 'rb') as f:\n",
    "    unum, vnum, pnum = pickle.load(f)"
   ]
  },
  {
   "cell_type": "code",
   "execution_count": null,
   "metadata": {
    "collapsed": false
   },
   "outputs": [],
   "source": [
    "numpy.allclose(u, unum)"
   ]
  },
  {
   "cell_type": "code",
   "execution_count": null,
   "metadata": {
    "collapsed": false
   },
   "outputs": [],
   "source": [
    "numpy.allclose(v, vnum)"
   ]
  },
  {
   "cell_type": "code",
   "execution_count": null,
   "metadata": {
    "collapsed": false
   },
   "outputs": [],
   "source": [
    "numpy.allclose(p, pnum)"
   ]
  },
  {
   "cell_type": "code",
   "execution_count": null,
   "metadata": {
    "collapsed": false
   },
   "outputs": [],
   "source": [
    "%%timeit\n",
    "run_cavity()"
   ]
  },
  {
   "cell_type": "code",
   "execution_count": null,
   "metadata": {
    "collapsed": true
   },
   "outputs": [],
   "source": [
    "%load_ext line_profiler"
   ]
  },
  {
   "cell_type": "code",
   "execution_count": null,
   "metadata": {
    "collapsed": true
   },
   "outputs": [],
   "source": [
    "%lprun -f cavity_flow run_cavity()"
   ]
  },
  {
   "cell_type": "code",
   "execution_count": null,
   "metadata": {
    "collapsed": true
   },
   "outputs": [],
   "source": []
  }
 ],
 "metadata": {
  "kernelspec": {
   "display_name": "Python 3",
   "language": "python",
   "name": "python3"
  },
  "language_info": {
   "codemirror_mode": {
    "name": "ipython",
    "version": 3
   },
   "file_extension": ".py",
   "mimetype": "text/x-python",
   "name": "python",
   "nbconvert_exporter": "python",
   "pygments_lexer": "ipython3",
   "version": "3.5.1"
  }
 },
 "nbformat": 4,
 "nbformat_minor": 0
}
