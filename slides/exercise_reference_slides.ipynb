{
 "cells": [
  {
   "cell_type": "markdown",
   "metadata": {
    "slideshow": {
     "slide_type": "slide"
    }
   },
   "source": [
    "## N-Body Exercise 1\n",
    "\n",
    "```python\n",
    "particle_dtype = numpy.dtype(\n",
    "                {'names':['x','y','z','m','phi'], \n",
    "                         'formats':[numpy.double, \n",
    "                                    numpy.double, \n",
    "                                    numpy.double, \n",
    "                                    numpy.double, \n",
    "                                    numpy.double]})\n",
    "                                        ```\n",
    "                                        \n",
    "```python\n",
    "myarray = numpy.ones(3, dtype=particle_dtype)\n",
    "myarray[0]['x']\n",
    "```"
   ]
  },
  {
   "cell_type": "markdown",
   "metadata": {
    "slideshow": {
     "slide_type": "slide"
    }
   },
   "source": [
    "## N-Body Exercise 2\n",
    "\n",
    "```python\n",
    "def distance(self, other):\n",
    "    return ((self.x-other.x)**2 + \n",
    "            (self.y-other.y)**2 + \n",
    "            (self.z-other.z)**2)**.5\n",
    "```"
   ]
  },
  {
   "cell_type": "markdown",
   "metadata": {
    "slideshow": {
     "slide_type": "slide"
    }
   },
   "source": [
    "## N-Body Exercise 3\n",
    "\n",
    "```python\n",
    "def direct_sum(particles):\n",
    "    \"\"\"\n",
    "    Calculate the gravitational potential at each particle\n",
    "    using direct summation method.\n",
    "\n",
    "    Arguments:\n",
    "        particles: the list of particles\n",
    "\n",
    "    \"\"\"\n",
    "    for i, target in enumerate(particles):\n",
    "        for source in (particles[:i] + particles[i+1:]):\n",
    "            r = target.distance(source)\n",
    "            target.phi += source.m / r\n",
    "```"
   ]
  }
 ],
 "metadata": {
  "celltoolbar": "Slideshow",
  "kernelspec": {
   "display_name": "Python 3",
   "language": "python",
   "name": "python3"
  },
  "language_info": {
   "codemirror_mode": {
    "name": "ipython",
    "version": 3
   },
   "file_extension": ".py",
   "mimetype": "text/x-python",
   "name": "python",
   "nbconvert_exporter": "python",
   "pygments_lexer": "ipython3",
   "version": "3.5.1"
  }
 },
 "nbformat": 4,
 "nbformat_minor": 0
}
